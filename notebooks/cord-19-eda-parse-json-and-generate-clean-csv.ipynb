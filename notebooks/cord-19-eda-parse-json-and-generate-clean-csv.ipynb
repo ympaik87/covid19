{
 "cells": [
  {
   "cell_type": "markdown",
   "metadata": {},
   "source": [
    "## About this notebook\n",
    "\n",
    "In this notebook, I quickly explore the `biorxiv` subset of the papers. Since it is stored in JSON format, the structure is likely too complex to directly perform analysis. Thus, I not only explore the structure of those files, but I also provide the following helper functions for you to easily format inner dictionaries from each file:\n",
    "* `format_name(author)`\n",
    "* `format_affiliation(affiliation)`\n",
    "* `format_authors(authors, with_affiliation=False)`\n",
    "* `format_body(body_text)`\n",
    "* `format_bib(bibs)`\n",
    "\n",
    "Feel free to reuse those functions for your own purpose!\n",
    "\n",
    "Throughout the EDA, I show you how to use each of those files. At the end, I show you how to generate a clean version of the `biorxiv` as well as all the other datasets, which you can directly use by choosing this notebook as a data source (\"File\" -> \"Add or upload data\" -> \"Kernel Output File\" tab -> search the name of this notebook)."
   ]
  },
  {
   "cell_type": "code",
   "execution_count": 1,
   "metadata": {
    "_cell_guid": "b1076dfc-b9ad-4769-8c92-a6c4dae69d19",
    "_uuid": "8f2839f25d086af736a60e9eeb907d3b93b6e0e5"
   },
   "outputs": [],
   "source": [
    "import os\n",
    "import json\n",
    "from pprint import pprint\n",
    "from copy import deepcopy\n",
    "\n",
    "import numpy as np\n",
    "import pandas as pd\n",
    "from tqdm.notebook import tqdm"
   ]
  },
  {
   "cell_type": "markdown",
   "metadata": {},
   "source": [
    "## Helper Functions"
   ]
  },
  {
   "cell_type": "markdown",
   "metadata": {},
   "source": [
    "Unhide the cell below to find the definition of the following functions:\n",
    "* `format_name(author)`\n",
    "* `format_affiliation(affiliation)`\n",
    "* `format_authors(authors, with_affiliation=False)`\n",
    "* `format_body(body_text)`\n",
    "* `format_bib(bibs)`"
   ]
  },
  {
   "cell_type": "code",
   "execution_count": 2,
   "metadata": {
    "_kg_hide-input": true
   },
   "outputs": [],
   "source": [
    "def format_name(author):\n",
    "    middle_name = \" \".join(author['middle'])\n",
    "    \n",
    "    if author['middle']:\n",
    "        return \" \".join([author['first'], middle_name, author['last']])\n",
    "    else:\n",
    "        return \" \".join([author['first'], author['last']])\n",
    "\n",
    "\n",
    "def format_affiliation(affiliation):\n",
    "    text = []\n",
    "    location = affiliation.get('location')\n",
    "    if location:\n",
    "        text.extend(list(affiliation['location'].values()))\n",
    "    \n",
    "    institution = affiliation.get('institution')\n",
    "    if institution:\n",
    "        text = [institution] + text\n",
    "    return \", \".join(text)\n",
    "\n",
    "def format_authors(authors, with_affiliation=False):\n",
    "    name_ls = []\n",
    "    \n",
    "    for author in authors:\n",
    "        name = format_name(author)\n",
    "        if with_affiliation:\n",
    "            affiliation = format_affiliation(author['affiliation'])\n",
    "            if affiliation:\n",
    "                name_ls.append(f\"{name} ({affiliation})\")\n",
    "            else:\n",
    "                name_ls.append(name)\n",
    "        else:\n",
    "            name_ls.append(name)\n",
    "    \n",
    "    return \", \".join(name_ls)\n",
    "\n",
    "def format_body(body_text):\n",
    "    texts = [(di['section'], di['text']) for di in body_text]\n",
    "    texts_di = {di['section']: \"\" for di in body_text}\n",
    "    \n",
    "    for section, text in texts:\n",
    "        texts_di[section] += text\n",
    "\n",
    "    body = \"\"\n",
    "\n",
    "    for section, text in texts_di.items():\n",
    "        body += section\n",
    "        body += \"\\n\\n\"\n",
    "        body += text\n",
    "        body += \"\\n\\n\"\n",
    "    \n",
    "    return body\n",
    "\n",
    "def format_bib(bibs):\n",
    "    if type(bibs) == dict:\n",
    "        bibs = list(bibs.values())\n",
    "    bibs = deepcopy(bibs)\n",
    "    formatted = []\n",
    "    \n",
    "    for bib in bibs:\n",
    "        bib['authors'] = format_authors(\n",
    "            bib['authors'], \n",
    "            with_affiliation=False\n",
    "        )\n",
    "        formatted_ls = [str(bib[k]) for k in ['title', 'authors', 'venue', 'year']]\n",
    "        formatted.append(\", \".join(formatted_ls))\n",
    "\n",
    "    return \"; \".join(formatted)"
   ]
  },
  {
   "cell_type": "markdown",
   "metadata": {},
   "source": [
    "Unhide the cell below to find the definition of the following functions:\n",
    "* `load_files(dirname)`\n",
    "* `generate_clean_df(all_files)`"
   ]
  },
  {
   "cell_type": "code",
   "execution_count": 3,
   "metadata": {
    "_kg_hide-input": true
   },
   "outputs": [],
   "source": [
    "def load_files(dirname):\n",
    "    filenames = os.listdir(dirname)\n",
    "    raw_files = []\n",
    "\n",
    "    for filename in tqdm(filenames):\n",
    "        filename = dirname + filename\n",
    "        file = json.load(open(filename, 'rb'))\n",
    "        raw_files.append(file)\n",
    "    \n",
    "    return raw_files\n",
    "\n",
    "def generate_clean_df(all_files):\n",
    "    cleaned_files = []\n",
    "    \n",
    "    for file in tqdm(all_files):\n",
    "        features = [\n",
    "            file['paper_id'],\n",
    "            file['metadata']['title'],\n",
    "            format_authors(file['metadata']['authors']),\n",
    "            format_authors(file['metadata']['authors'], \n",
    "                           with_affiliation=True),\n",
    "            format_body(file['abstract']),\n",
    "            format_body(file['body_text']),\n",
    "            format_bib(file['bib_entries']),\n",
    "            file['metadata']['authors'],\n",
    "            file['bib_entries']\n",
    "        ]\n",
    "\n",
    "        cleaned_files.append(features)\n",
    "\n",
    "    col_names = ['paper_id', 'title', 'authors',\n",
    "                 'affiliations', 'abstract', 'text', \n",
    "                 'bibliography','raw_authors','raw_bibliography']\n",
    "\n",
    "    clean_df = pd.DataFrame(cleaned_files, columns=col_names)\n",
    "    clean_df.head()\n",
    "    \n",
    "    return clean_df"
   ]
  },
  {
   "cell_type": "markdown",
   "metadata": {},
   "source": [
    "## Biorxiv: Exploration\n",
    "\n",
    "Let's first take a quick glance at the `biorxiv` subset of the data. We will also use this opportunity to load all of the json files into a list of **nested** dictionaries (each `dict` is an article)."
   ]
  },
  {
   "cell_type": "code",
   "execution_count": 4,
   "metadata": {},
   "outputs": [
    {
     "name": "stdout",
     "output_type": "stream",
     "text": [
      "Number of articles retrieved from biorxiv: 803\n"
     ]
    }
   ],
   "source": [
    "biorxiv_dir = '/kaggle/input/CORD-19-research-challenge/2020-03-13/biorxiv_medrxiv/biorxiv_medrxiv/'\n",
    "filenames = os.listdir(biorxiv_dir)\n",
    "print(\"Number of articles retrieved from biorxiv:\", len(filenames))"
   ]
  },
  {
   "cell_type": "code",
   "execution_count": 5,
   "metadata": {},
   "outputs": [],
   "source": [
    "all_files = []\n",
    "\n",
    "for filename in filenames:\n",
    "    filename = biorxiv_dir + filename\n",
    "    file = json.load(open(filename, 'rb'))\n",
    "    all_files.append(file)"
   ]
  },
  {
   "cell_type": "code",
   "execution_count": 6,
   "metadata": {},
   "outputs": [
    {
     "name": "stdout",
     "output_type": "stream",
     "text": [
      "Dictionary keys: dict_keys(['paper_id', 'metadata', 'abstract', 'body_text', 'bib_entries', 'ref_entries', 'back_matter'])\n"
     ]
    }
   ],
   "source": [
    "file = all_files[0]\n",
    "print(\"Dictionary keys:\", file.keys())"
   ]
  },
  {
   "cell_type": "markdown",
   "metadata": {},
   "source": [
    "## Biorxiv: Abstract"
   ]
  },
  {
   "cell_type": "markdown",
   "metadata": {},
   "source": [
    "The abstract dictionary is fairly simple:"
   ]
  },
  {
   "cell_type": "code",
   "execution_count": 7,
   "metadata": {},
   "outputs": [
    {
     "name": "stdout",
     "output_type": "stream",
     "text": [
      "[{'cite_spans': [],\n",
      "  'ref_spans': [],\n",
      "  'section': 'Abstract',\n",
      "  'text': 'Viruses possessing class I fusion proteins require proteolytic '\n",
      "          'activation by host cell proteases to mediate 18 fusion with the '\n",
      "          'host cell membrane. The mammalian SPINT2 gene encodes a protease '\n",
      "          'inhibitor that 19 targets trypsin-like serine proteases. Here we '\n",
      "          'show the protease inhibitor, SPINT2, restricts cleavage-20 '\n",
      "          'activation efficiently for a range of influenza viruses and for '\n",
      "          'human metapneumovirus (HMPV). SPINT2 21 treatment resulted in the '\n",
      "          'cleavage and fusion inhibition of full-length influenza A/CA/04/09 '\n",
      "          '(H1N1) HA, 22'}]\n"
     ]
    }
   ],
   "source": [
    "pprint(file['abstract'])"
   ]
  },
  {
   "cell_type": "markdown",
   "metadata": {},
   "source": [
    "## Biorxiv: body text"
   ]
  },
  {
   "cell_type": "markdown",
   "metadata": {},
   "source": [
    "Let's first probe what the `body_text` dictionary looks like:"
   ]
  },
  {
   "cell_type": "code",
   "execution_count": 8,
   "metadata": {},
   "outputs": [
    {
     "name": "stdout",
     "output_type": "stream",
     "text": [
      "body_text type: <class 'list'>\n",
      "body_text length: 36\n",
      "body_text keys: dict_keys(['text', 'cite_spans', 'ref_spans', 'section'])\n"
     ]
    }
   ],
   "source": [
    "print(\"body_text type:\", type(file['body_text']))\n",
    "print(\"body_text length:\", len(file['body_text']))\n",
    "print(\"body_text keys:\", file['body_text'][0].keys())"
   ]
  },
  {
   "cell_type": "markdown",
   "metadata": {},
   "source": [
    "We take a look at the first part of the `body_text` content. As you will notice, the body text is separated into a list of small subsections, each containing a `section` and a `text` key. Since multiple subsection can have the same section, we need to first group each subsection before concatenating everything."
   ]
  },
  {
   "cell_type": "code",
   "execution_count": 9,
   "metadata": {},
   "outputs": [
    {
     "name": "stdout",
     "output_type": "stream",
     "text": [
      "body_text content:\n",
      "[{'cite_spans': [],\n",
      "  'ref_spans': [{...}],\n",
      "  'section': 'Introduction 9',\n",
      "  'text': 'Influenza-like illnesses (ILIs) represent a significant burden on '\n",
      "          'public health and can be caused by 10 a range of respiratory '\n",
      "          'viruses in addition to influenza virus itself (1). An ongoing goal '\n",
      "          'of anti-viral drug 11 discovery is to develop broadly-acting '\n",
      "          'therapeutics that can be used in the absence of definitive '\n",
      "          'diagnosis, 12 such as in the case of ILIs. For such strategies to '\n",
      "          'succeed, drug targets that are shared across virus families 13 need '\n",
      "          'to be identified. 14 For the SPINT2 inhibition assays, trypsin '\n",
      "          '(which typically resides in the intestinal tract and expresses a '\n",
      "          'very 1 broad activity towards different HA subtypes and HMPV F) '\n",
      "          'served as a control (41). In addition, furin was 2 used as a '\n",
      "          'negative control that is not inhibited by SPINT2. As none of the '\n",
      "          'peptides used in combination 3 with the aforementioned proteases '\n",
      "          'has a furin cleavage site we tested furin-mediated cleavage on a 4 '\n",
      "          'peptide with a H5N1 HPAI cleavage motif in the presence of 500 nM '\n",
      "          'SPINT2 (Supplementary Figure 1) . 5'},\n",
      " {'cite_spans': [],\n",
      "  'ref_spans': [{...}],\n",
      "  'section': 'Introduction 9',\n",
      "  'text': 'We continued by measuring the Vmax values for each protease/peptide '\n",
      "          'combination in the presence of 6 different SPINT2 concentrations '\n",
      "          'and plotted the obtained Vmax values against the SPINT2 '\n",
      "          'concentrations 7 on a logarithmic scale (Supplementary Figure 2) . '\n",
      "          'Using Prism7 software, we then determined the IC50 that 8 reflects '\n",
      "          'at which concentration the Vmax of the respective reaction is '\n",
      "          'inhibited by half. SPINT2 cleavage 9'}]\n"
     ]
    }
   ],
   "source": [
    "print(\"body_text content:\")\n",
    "pprint(file['body_text'][:2], depth=3)"
   ]
  },
  {
   "cell_type": "markdown",
   "metadata": {},
   "source": [
    "Let's see what the grouped section titles are for the example above:"
   ]
  },
  {
   "cell_type": "code",
   "execution_count": 10,
   "metadata": {},
   "outputs": [
    {
     "name": "stdout",
     "output_type": "stream",
     "text": [
      "['Introduction 9',\n",
      " 'SPINT2 inhibits HA mediated cell-cell fusion 20',\n",
      " 'SPINT2 reduces viral growth in cell culture 19',\n",
      " 'Discussion 10',\n",
      " 'Materials and Methods 16',\n",
      " '293T, VERO and MDCK cells (American Type Culture Collection) used for '\n",
      " 'influenza experiments 18',\n",
      " 'Peptide Assays 16',\n",
      " 'Cytotoxicity assay 3',\n",
      " 'Metabolic protein labeling and immunoprecipitation of HMPV fusion protein 11',\n",
      " 'Inhibition of influenza viral infection in cell culture 8',\n",
      " 'Inhibition of HMPV viral infection in cell culture 16']\n"
     ]
    }
   ],
   "source": [
    "texts = [(di['section'], di['text']) for di in file['body_text']]\n",
    "texts_di = {di['section']: \"\" for di in file['body_text']}\n",
    "for section, text in texts:\n",
    "    texts_di[section] += text\n",
    "\n",
    "pprint(list(texts_di.keys()))"
   ]
  },
  {
   "cell_type": "markdown",
   "metadata": {},
   "source": [
    "The following example shows what the final result looks like, after we format each section title with its content:"
   ]
  },
  {
   "cell_type": "code",
   "execution_count": 11,
   "metadata": {},
   "outputs": [
    {
     "name": "stdout",
     "output_type": "stream",
     "text": [
      "Introduction 9\n",
      "\n",
      "Influenza-like illnesses (ILIs) represent a significant burden on public health and can be caused by 10 a range of respiratory viruses in addition to influenza virus itself (1). An ongoing goal of anti-viral drug 11 discovery is to develop broadly-acting therapeutics that can be used in the absence of definitive diagnosis, 12 such as in the case of ILIs. For such strategies to succeed, drug targets that are shared across virus families 13 need to be identified. 14 For the SPINT2 inhibition assays, trypsin (which typically resides in the intestinal tract and expresses a very 1 broad activity towards different HA subtypes and HMPV F) served as a control (41). In addition, furin was 2 used as a negative control that is not inhibited by SPINT2. As none of the peptides used in combination 3 with the aforementioned proteases has a furin cleavage site we tested furin-mediated cleavage on a 4 peptide with a H5N1 HPAI cleavage motif in the presence of 500 nM SPINT2 (Supplementary Figure 1) . 5We continued by measuring the Vmax values for each protease/peptide combination in the presence of 6 different SPINT2 concentrations and plotted the obtained Vmax values against the SPINT2 concentrations 7 on a logarithmic scale (Supplementary Figure 2) . Using Prism7 software, we then determined the IC50 that 8 reflects at which concentration the Vmax of the respective reaction is inhibited by half. SPINT2 cleavage 9inhibition of a representative H1N1 cleavage site by trypsin results in an IC50 value of 70.6 nM (Table 2A)  10 while the inhibition efficacy of SPINT2 towards matriptase, HAT, KLK5 and KLK12 ranged from 11 nM to 11 25 nM (Table 2A) . However, inhibition was much less efficient for plasmin compared with trypsin (122 12 nM). We observed a similar trend when testing peptides mimicking the H3N2 and H7N9 HA cleavage sites 13 using trypsin, HAT, KLK5, plasmin and trypsin, matriptase, plasmin, respectively (Table 2A) . With the 14 exception of plasmin, we found that human respiratory tract proteases are inhibited with a higher efficacy 15 compared to trypsin. We expanded our analysis to peptides mimicking HA cleavage sites of H2N2, H5N1 16 (LPAI and HPAI), H6N1 and H9N2 that all reflected the results described above (Table 2A) . Only cleavage 17 inhibition of H6N1 HA by KLK5 did not significantly differ from the observation made with trypsin (Table  18   2A ). 19When we tested the inhibition of HMPV cleavage by trypsin, matriptase and KLK5, SPINT2 demonstrated 20 high inhibition efficacy for all three tested proteases with measured IC50s for trypsin, matriptase and KLK5 21 of 0.04 nM, 0.0003 nM and 0.95 nM, respectively (Table 2B ).Compared to the IC50 values observed with 22 the peptides mimicking influenza HA cleavage site motifs the IC50 values for the HMPV F peptide were 23 very low. 24 . CC-BY-NC-ND 4.0 International license is made available under a The copyright holder for this preprint (which was not peer-reviewed) is the author/funder.\n"
     ]
    }
   ],
   "source": [
    "body = \"\"\n",
    "\n",
    "for section, text in texts_di.items():\n",
    "    body += section\n",
    "    body += \"\\n\\n\"\n",
    "    body += text\n",
    "    body += \"\\n\\n\"\n",
    "\n",
    "print(body[:3000])"
   ]
  },
  {
   "cell_type": "markdown",
   "metadata": {},
   "source": [
    "The function below lets you display the body text in one line (unhide to see exactly the same as above):"
   ]
  },
  {
   "cell_type": "code",
   "execution_count": 12,
   "metadata": {
    "_kg_hide-output": true
   },
   "outputs": [
    {
     "name": "stdout",
     "output_type": "stream",
     "text": [
      "Introduction 9\n",
      "\n",
      "Influenza-like illnesses (ILIs) represent a significant burden on public health and can be caused by 10 a range of respiratory viruses in addition to influenza virus itself (1). An ongoing goal of anti-viral drug 11 discovery is to develop broadly-acting therapeutics that can be used in the absence of definitive diagnosis, 12 such as in the case of ILIs. For such strategies to succeed, drug targets that are shared across virus families 13 need to be identified. 14 For the SPINT2 inhibition assays, trypsin (which typically resides in the intestinal tract and expresses a very 1 broad activity towards different HA subtypes and HMPV F) served as a control (41). In addition, furin was 2 used as a negative control that is not inhibited by SPINT2. As none of the peptides used in combination 3 with the aforementioned proteases has a furin cleavage site we tested furin-mediated cleavage on a 4 peptide with a H5N1 HPAI cleavage motif in the presence of 500 nM SPINT2 (Supplementary Figure 1) . 5We continued by measuring the Vmax values for each protease/peptide combination in the presence of 6 different SPINT2 concentrations and plotted the obtained Vmax values against the SPINT2 concentrations 7 on a logarithmic scale (Supplementary Figure 2) . Using Prism7 software, we then determined the IC50 that 8 reflects at which concentration the Vmax of the respective reaction is inhibited by half. SPINT2 cleavage 9inhibition of a representative H1N1 cleavage site by trypsin results in an IC50 value of 70.6 nM (Table 2A)  10 while the inhibition efficacy of SPINT2 towards matriptase, HAT, KLK5 and KLK12 ranged from 11 nM to 11 25 nM (Table 2A) . However, inhibition was much less efficient for plasmin compared with trypsin (122 12 nM). We observed a similar trend when testing peptides mimicking the H3N2 and H7N9 HA cleavage sites 13 using trypsin, HAT, KLK5, plasmin and trypsin, matriptase, plasmin, respectively (Table 2A) . With the 14 exception of plasmin, we found that human respiratory tract proteases are inhibited with a higher efficacy 15 compared to trypsin. We expanded our analysis to peptides mimicking HA cleavage sites of H2N2, H5N1 16 (LPAI and HPAI), H6N1 and H9N2 that all reflected the results described above (Table 2A) . Only cleavage 17 inhibition of H6N1 HA by KLK5 did not significantly differ from the observation made with trypsin (Table  18   2A ). 19When we tested the inhibition of HMPV cleavage by trypsin, matriptase and KLK5, SPINT2 demonstrated 20 high inhibition efficacy for all three tested proteases with measured IC50s for trypsin, matriptase and KLK5 21 of 0.04 nM, 0.0003 nM and 0.95 nM, respectively (Table 2B ).Compared to the IC50 values observed with 22 the peptides mimicking influenza HA cleavage site motifs the IC50 values for the HMPV F peptide were 23 very low. 24 . CC-BY-NC-ND 4.0 International license is made available under a The copyright holder for this preprint (which was not peer-reviewed) is the author/funder.\n"
     ]
    }
   ],
   "source": [
    "print(format_body(file['body_text'])[:3000])"
   ]
  },
  {
   "cell_type": "markdown",
   "metadata": {},
   "source": [
    "## Biorxiv: Metadata"
   ]
  },
  {
   "cell_type": "markdown",
   "metadata": {},
   "source": [
    "Let's first see what keys are contained in the `metadata` dictionary:"
   ]
  },
  {
   "cell_type": "code",
   "execution_count": 13,
   "metadata": {},
   "outputs": [
    {
     "name": "stdout",
     "output_type": "stream",
     "text": [
      "dict_keys(['title', 'authors'])\n"
     ]
    }
   ],
   "source": [
    "print(all_files[0]['metadata'].keys())"
   ]
  },
  {
   "cell_type": "markdown",
   "metadata": {},
   "source": [
    "Let's take a look at each of the correspond values:"
   ]
  },
  {
   "cell_type": "code",
   "execution_count": 14,
   "metadata": {},
   "outputs": [
    {
     "name": "stdout",
     "output_type": "stream",
     "text": [
      "SPINT2 inhibits proteases involved in activation of both influenza viruses and metapneumoviruses 1 2\n"
     ]
    }
   ],
   "source": [
    "print(all_files[0]['metadata']['title'])"
   ]
  },
  {
   "cell_type": "code",
   "execution_count": 15,
   "metadata": {},
   "outputs": [
    {
     "name": "stdout",
     "output_type": "stream",
     "text": [
      "[{'affiliation': {},\n",
      "  'email': '',\n",
      "  'first': 'Marco',\n",
      "  'last': 'Straus',\n",
      "  'middle': ['R'],\n",
      "  'suffix': ''},\n",
      " {'affiliation': {'institution': 'University of Kentucky',\n",
      "                  'laboratory': '',\n",
      "                  'location': {'country': 'United 9 States',\n",
      "                               'region': 'KY',\n",
      "                               'settlement': 'Lexington'}},\n",
      "  'email': '',\n",
      "  'first': 'Jonathan',\n",
      "  'last': 'Kinder',\n",
      "  'middle': ['T'],\n",
      "  'suffix': ''},\n",
      " {'affiliation': {},\n",
      "  'email': '',\n",
      "  'first': 'Michal',\n",
      "  'last': 'Segall',\n",
      "  'middle': [],\n",
      "  'suffix': ''}]\n"
     ]
    }
   ],
   "source": [
    "authors = all_files[0]['metadata']['authors']\n",
    "pprint(authors[:3])"
   ]
  },
  {
   "cell_type": "markdown",
   "metadata": {},
   "source": [
    "The `format_name` and `format_affiliation` functions:"
   ]
  },
  {
   "cell_type": "code",
   "execution_count": 16,
   "metadata": {},
   "outputs": [
    {
     "name": "stdout",
     "output_type": "stream",
     "text": [
      "Name: Marco R Straus\n",
      "Affiliation: \n",
      "\n",
      "Name: Jonathan T Kinder\n",
      "Affiliation: University of Kentucky, Lexington, KY, United 9 States\n",
      "\n",
      "Name: Michal Segall\n",
      "Affiliation: \n",
      "\n",
      "Name: Rebecca Ellis Dutch\n",
      "Affiliation: University of Kentucky, Lexington, KY, United 9 States\n",
      "\n",
      "Name: Gary R Whittaker\n",
      "Affiliation: \n",
      "\n",
      "Name: M R S \n",
      "Affiliation: \n",
      "\n",
      "Name: J T K \n",
      "Affiliation: \n",
      "\n"
     ]
    }
   ],
   "source": [
    "for author in authors:\n",
    "    print(\"Name:\", format_name(author))\n",
    "    print(\"Affiliation:\", format_affiliation(author['affiliation']))\n",
    "    print()"
   ]
  },
  {
   "cell_type": "markdown",
   "metadata": {},
   "source": [
    "Now, let's take as an example a slightly longer list of authors:"
   ]
  },
  {
   "cell_type": "code",
   "execution_count": 17,
   "metadata": {},
   "outputs": [
    {
     "name": "stdout",
     "output_type": "stream",
     "text": [
      "{'authors': [{'affiliation': {'institution': 'Bioinformatics Unit (MF',\n",
      "                              'laboratory': '',\n",
      "                              'location': {}},\n",
      "              'email': '',\n",
      "              'first': 'Mathias',\n",
      "              'last': 'Kuhring',\n",
      "              'middle': [],\n",
      "              'suffix': ''},\n",
      "             {'affiliation': {'institution': '',\n",
      "                              'laboratory': 'Centre for Biological Threats and '\n",
      "                                            'Special Pathogens, Proteomics and '\n",
      "                                            'Spectroscopy (ZBS',\n",
      "                              'location': {}},\n",
      "              'email': '',\n",
      "              'first': 'Joerg',\n",
      "              'last': 'Doellinger',\n",
      "              'middle': [],\n",
      "              'suffix': ''},\n",
      "             {'affiliation': {'institution': 'Robert Koch Institute',\n",
      "                              'laboratory': '',\n",
      "                              'location': {...}},\n",
      "              'email': '',\n",
      "              'first': 'Andreas',\n",
      "              'last': 'Nitsche',\n",
      "              'middle': [],\n",
      "              'suffix': ''},\n",
      "             {'affiliation': {'institution': 'Bioinformatics Unit (MF',\n",
      "                              'laboratory': '',\n",
      "                              'location': {}},\n",
      "              'email': '',\n",
      "              'first': 'Thilo',\n",
      "              'last': 'Muth',\n",
      "              'middle': [],\n",
      "              'suffix': ''},\n",
      "             {'affiliation': {'institution': 'Bioinformatics Unit (MF',\n",
      "                              'laboratory': '',\n",
      "                              'location': {}},\n",
      "              'email': '',\n",
      "              'first': 'Bernhard',\n",
      "              'last': 'Renard',\n",
      "              'middle': ['Y'],\n",
      "              'suffix': ''}],\n",
      " 'title': 'TaxIt: An iterative and automated computational pipeline for '\n",
      "          'untargeted strain-level identification using MS/MS spectra from '\n",
      "          'pathogenic samples'}\n"
     ]
    }
   ],
   "source": [
    "pprint(all_files[4]['metadata'], depth=4)"
   ]
  },
  {
   "cell_type": "markdown",
   "metadata": {},
   "source": [
    "Here, I provide the function `format_authors` that let you format a list of authors to get a final string, with the optional argument of showing the affiliation:"
   ]
  },
  {
   "cell_type": "code",
   "execution_count": 18,
   "metadata": {},
   "outputs": [
    {
     "name": "stdout",
     "output_type": "stream",
     "text": [
      "Formatting without affiliation:\n",
      "Mathias Kuhring, Joerg Doellinger, Andreas Nitsche, Thilo Muth, Bernhard Y Renard\n",
      "\n",
      "Formatting with affiliation:\n",
      "Mathias Kuhring (Bioinformatics Unit (MF), Joerg Doellinger, Andreas Nitsche (Robert Koch Institute, Berlin, Germany), Thilo Muth (Bioinformatics Unit (MF), Bernhard Y Renard (Bioinformatics Unit (MF)\n"
     ]
    }
   ],
   "source": [
    "authors = all_files[4]['metadata']['authors']\n",
    "print(\"Formatting without affiliation:\")\n",
    "print(format_authors(authors, with_affiliation=False))\n",
    "print(\"\\nFormatting with affiliation:\")\n",
    "print(format_authors(authors, with_affiliation=True))"
   ]
  },
  {
   "cell_type": "markdown",
   "metadata": {},
   "source": [
    "## Biorxiv: bibliography"
   ]
  },
  {
   "cell_type": "markdown",
   "metadata": {},
   "source": [
    "Let's take a look at the bibliography section. "
   ]
  },
  {
   "cell_type": "code",
   "execution_count": 19,
   "metadata": {},
   "outputs": [
    {
     "name": "stdout",
     "output_type": "stream",
     "text": [
      "[{'authors': [{'first': 'J', 'last': 'Mckerrow', 'middle': [...], 'suffix': ''},\n",
      "              {'first': 'A', 'last': 'Renslo', 'middle': [...], 'suffix': ''},\n",
      "              {'first': 'G', 'last': 'Simmons', 'middle': [], 'suffix': ''}],\n",
      "  'issn': '',\n",
      "  'other_ids': {},\n",
      "  'pages': '76--84',\n",
      "  'ref_id': 'b1',\n",
      "  'title': 'Protease inhibitors targeting coronavirus and 13 filovirus entry',\n",
      "  'venue': 'Antiviral Res',\n",
      "  'volume': '116',\n",
      "  'year': 2015},\n",
      " {'authors': [{'first': 'S', 'last': 'Matsuyama', 'middle': [], 'suffix': ''},\n",
      "              {'first': 'N', 'last': 'Nagata', 'middle': [], 'suffix': ''},\n",
      "              {'first': 'K', 'last': 'Shirato', 'middle': [], 'suffix': ''},\n",
      "              {'first': 'M', 'last': 'Kawase', 'middle': [], 'suffix': ''},\n",
      "              {'first': 'M', 'last': 'Takeda', 'middle': [], 'suffix': ''},\n",
      "              {'first': 'F', 'last': 'Taguchi', 'middle': [], 'suffix': ''}],\n",
      "  'issn': '',\n",
      "  'other_ids': {},\n",
      "  'pages': '',\n",
      "  'ref_id': 'b2',\n",
      "  'title': 'Efficient Activation of 15 the Severe Acute Respiratory Syndrome '\n",
      "           'Coronavirus Spike Protein by the Transmembrane 16',\n",
      "  'venue': '',\n",
      "  'volume': '',\n",
      "  'year': 2010}]\n"
     ]
    }
   ],
   "source": [
    "bibs = list(file['bib_entries'].values())\n",
    "pprint(bibs[:2], depth=4)"
   ]
  },
  {
   "cell_type": "markdown",
   "metadata": {},
   "source": [
    "You can reused the `format_authors` function here:"
   ]
  },
  {
   "cell_type": "code",
   "execution_count": 20,
   "metadata": {},
   "outputs": [
    {
     "data": {
      "text/plain": [
       "'S Matsuyama, N Nagata, K Shirato, M Kawase, M Takeda, F Taguchi'"
      ]
     },
     "execution_count": 20,
     "metadata": {},
     "output_type": "execute_result"
    }
   ],
   "source": [
    "format_authors(bibs[1]['authors'], with_affiliation=False)"
   ]
  },
  {
   "cell_type": "markdown",
   "metadata": {},
   "source": [
    "The following function let you format the bibliography all at once. It only extracts the title, authors, venue, year, and separate each entry of the bibliography with a `;`."
   ]
  },
  {
   "cell_type": "code",
   "execution_count": 21,
   "metadata": {},
   "outputs": [
    {
     "name": "stdout",
     "output_type": "stream",
     "text": [
      "Protease inhibitors targeting coronavirus and 13 filovirus entry, J H Mckerrow, A R Renslo, G Simmons, Antiviral Res, 2015; Efficient Activation of 15 the Severe Acute Respiratory Syndrome Coronavirus Spike Protein by the Transmembrane 16, S Matsuyama, N Nagata, K Shirato, M Kawase, M Takeda, F Taguchi, , 2010\n"
     ]
    }
   ],
   "source": [
    "bib_formatted = format_bib(bibs[:5])\n",
    "print(bib_formatted)"
   ]
  },
  {
   "cell_type": "markdown",
   "metadata": {},
   "source": [
    "## Biorxiv: Generate CSV\n",
    "\n",
    "In this section, I show you how to manually generate the CSV files. As you can see, it's now super simple because of the `format_` helper functions. In the next sections, I show you have to generate them in 3 lines using the `load_files` and `generate_clean_dr` helper functions."
   ]
  },
  {
   "cell_type": "code",
   "execution_count": 22,
   "metadata": {},
   "outputs": [
    {
     "data": {
      "application/vnd.jupyter.widget-view+json": {
       "model_id": "0960644eead247c3bd1531b3c4f3f4a1",
       "version_major": 2,
       "version_minor": 0
      },
      "text/plain": [
       "HBox(children=(FloatProgress(value=0.0, max=803.0), HTML(value='')))"
      ]
     },
     "metadata": {},
     "output_type": "display_data"
    },
    {
     "name": "stdout",
     "output_type": "stream",
     "text": [
      "\n"
     ]
    }
   ],
   "source": [
    "cleaned_files = []\n",
    "\n",
    "for file in tqdm(all_files):\n",
    "    features = [\n",
    "        file['paper_id'],\n",
    "        file['metadata']['title'],\n",
    "        format_authors(file['metadata']['authors']),\n",
    "        format_authors(file['metadata']['authors'], \n",
    "                       with_affiliation=True),\n",
    "        format_body(file['abstract']),\n",
    "        format_body(file['body_text']),\n",
    "        format_bib(file['bib_entries']),\n",
    "        file['metadata']['authors'],\n",
    "        file['bib_entries']\n",
    "    ]\n",
    "    \n",
    "    cleaned_files.append(features)"
   ]
  },
  {
   "cell_type": "code",
   "execution_count": 23,
   "metadata": {},
   "outputs": [
    {
     "data": {
      "text/html": [
       "<div>\n",
       "<style scoped>\n",
       "    .dataframe tbody tr th:only-of-type {\n",
       "        vertical-align: middle;\n",
       "    }\n",
       "\n",
       "    .dataframe tbody tr th {\n",
       "        vertical-align: top;\n",
       "    }\n",
       "\n",
       "    .dataframe thead th {\n",
       "        text-align: right;\n",
       "    }\n",
       "</style>\n",
       "<table border=\"1\" class=\"dataframe\">\n",
       "  <thead>\n",
       "    <tr style=\"text-align: right;\">\n",
       "      <th></th>\n",
       "      <th>paper_id</th>\n",
       "      <th>title</th>\n",
       "      <th>authors</th>\n",
       "      <th>affiliations</th>\n",
       "      <th>abstract</th>\n",
       "      <th>text</th>\n",
       "      <th>bibliography</th>\n",
       "      <th>raw_authors</th>\n",
       "      <th>raw_bibliography</th>\n",
       "    </tr>\n",
       "  </thead>\n",
       "  <tbody>\n",
       "    <tr>\n",
       "      <th>0</th>\n",
       "      <td>4602afcb8d95ebd9da583124384fd74299d20f5b</td>\n",
       "      <td>SPINT2 inhibits proteases involved in activati...</td>\n",
       "      <td>Marco R Straus, Jonathan T Kinder, Michal Sega...</td>\n",
       "      <td>Marco R Straus, Jonathan T Kinder (University ...</td>\n",
       "      <td>Abstract\\n\\nViruses possessing class I fusion ...</td>\n",
       "      <td>Introduction 9\\n\\nInfluenza-like illnesses (IL...</td>\n",
       "      <td>Protease inhibitors targeting coronavirus and ...</td>\n",
       "      <td>[{'first': 'Marco', 'middle': ['R'], 'last': '...</td>\n",
       "      <td>{'BIBREF1': {'ref_id': 'b1', 'title': 'Proteas...</td>\n",
       "    </tr>\n",
       "    <tr>\n",
       "      <th>1</th>\n",
       "      <td>90b5ecf991032f3918ad43b252e17d1171b4ea63</td>\n",
       "      <td>The role of absolute humidity on transmission ...</td>\n",
       "      <td>Wei Luo, Maimuna S Majumder, Diambo Liu, Canel...</td>\n",
       "      <td>Wei Luo (Boston Children's Hospital, 02215, Bo...</td>\n",
       "      <td></td>\n",
       "      <td>Introduction\\n\\nSince December 2019, an increa...</td>\n",
       "      <td>A novel coronavirus from patients with pneumon...</td>\n",
       "      <td>[{'first': 'Wei', 'middle': [], 'last': 'Luo',...</td>\n",
       "      <td>{'BIBREF0': {'ref_id': 'b0', 'title': 'A novel...</td>\n",
       "    </tr>\n",
       "    <tr>\n",
       "      <th>2</th>\n",
       "      <td>d3c2e2839498c613ee95739dce7052109750362c</td>\n",
       "      <td>Long-Term Persistence of IgG Antibodies in SAR...</td>\n",
       "      <td>Xiaoqin Guo, Zhongmin Guo, Chaohui Duan, Zelia...</td>\n",
       "      <td>Xiaoqin Guo (Sun Yat-sen University, 510080, G...</td>\n",
       "      <td>Abstract\\n\\n23 BACKGROUND 24 The ongoing world...</td>\n",
       "      <td>\\n\\nCC-BY-ND 4.0 International license It is m...</td>\n",
       "      <td>The severe acute respiratory syndrome, J S Pei...</td>\n",
       "      <td>[{'first': 'Xiaoqin', 'middle': [], 'last': 'G...</td>\n",
       "      <td>{'BIBREF0': {'ref_id': 'b0', 'title': 'The sev...</td>\n",
       "    </tr>\n",
       "    <tr>\n",
       "      <th>3</th>\n",
       "      <td>da3aa20131ac2805c0d9e1b29f094683479ab5b7</td>\n",
       "      <td>Ruler elements in chromatin remodelers set nuc...</td>\n",
       "      <td>Elisa Oberbeckmann, Vanessa Niebauer, Shinya W...</td>\n",
       "      <td>Elisa Oberbeckmann (Martinsried near to Munich...</td>\n",
       "      <td>Abstract\\n\\nArrays of regularly spaced nucleos...</td>\n",
       "      <td>\\n\\nArrays of regularly spaced nucleosomes dom...</td>\n",
       "      <td>The Snf2 homolog Fun30 acts as a homodimeric A...</td>\n",
       "      <td>[{'first': 'Elisa', 'middle': [], 'last': 'Obe...</td>\n",
       "      <td>{'BIBREF0': {'ref_id': 'b0', 'title': 'The Snf...</td>\n",
       "    </tr>\n",
       "    <tr>\n",
       "      <th>4</th>\n",
       "      <td>d2c7ac58cc309df9d3da8e766184d09c32d16dca</td>\n",
       "      <td>TaxIt: An iterative and automated computationa...</td>\n",
       "      <td>Mathias Kuhring, Joerg Doellinger, Andreas Nit...</td>\n",
       "      <td>Mathias Kuhring (Bioinformatics Unit (MF), Joe...</td>\n",
       "      <td>Abstract\\n\\nUntargeted accurate strain-level c...</td>\n",
       "      <td>Introduction\\n\\nPathogenic strain identificati...</td>\n",
       "      <td>Vaccinia Virus Strain Differences in Cell Atta...</td>\n",
       "      <td>[{'first': 'Mathias', 'middle': [], 'last': 'K...</td>\n",
       "      <td>{'BIBREF0': {'ref_id': 'b0', 'title': 'Vaccini...</td>\n",
       "    </tr>\n",
       "  </tbody>\n",
       "</table>\n",
       "</div>"
      ],
      "text/plain": [
       "                                   paper_id  \\\n",
       "0  4602afcb8d95ebd9da583124384fd74299d20f5b   \n",
       "1  90b5ecf991032f3918ad43b252e17d1171b4ea63   \n",
       "2  d3c2e2839498c613ee95739dce7052109750362c   \n",
       "3  da3aa20131ac2805c0d9e1b29f094683479ab5b7   \n",
       "4  d2c7ac58cc309df9d3da8e766184d09c32d16dca   \n",
       "\n",
       "                                               title  \\\n",
       "0  SPINT2 inhibits proteases involved in activati...   \n",
       "1  The role of absolute humidity on transmission ...   \n",
       "2  Long-Term Persistence of IgG Antibodies in SAR...   \n",
       "3  Ruler elements in chromatin remodelers set nuc...   \n",
       "4  TaxIt: An iterative and automated computationa...   \n",
       "\n",
       "                                             authors  \\\n",
       "0  Marco R Straus, Jonathan T Kinder, Michal Sega...   \n",
       "1  Wei Luo, Maimuna S Majumder, Diambo Liu, Canel...   \n",
       "2  Xiaoqin Guo, Zhongmin Guo, Chaohui Duan, Zelia...   \n",
       "3  Elisa Oberbeckmann, Vanessa Niebauer, Shinya W...   \n",
       "4  Mathias Kuhring, Joerg Doellinger, Andreas Nit...   \n",
       "\n",
       "                                        affiliations  \\\n",
       "0  Marco R Straus, Jonathan T Kinder (University ...   \n",
       "1  Wei Luo (Boston Children's Hospital, 02215, Bo...   \n",
       "2  Xiaoqin Guo (Sun Yat-sen University, 510080, G...   \n",
       "3  Elisa Oberbeckmann (Martinsried near to Munich...   \n",
       "4  Mathias Kuhring (Bioinformatics Unit (MF), Joe...   \n",
       "\n",
       "                                            abstract  \\\n",
       "0  Abstract\\n\\nViruses possessing class I fusion ...   \n",
       "1                                                      \n",
       "2  Abstract\\n\\n23 BACKGROUND 24 The ongoing world...   \n",
       "3  Abstract\\n\\nArrays of regularly spaced nucleos...   \n",
       "4  Abstract\\n\\nUntargeted accurate strain-level c...   \n",
       "\n",
       "                                                text  \\\n",
       "0  Introduction 9\\n\\nInfluenza-like illnesses (IL...   \n",
       "1  Introduction\\n\\nSince December 2019, an increa...   \n",
       "2  \\n\\nCC-BY-ND 4.0 International license It is m...   \n",
       "3  \\n\\nArrays of regularly spaced nucleosomes dom...   \n",
       "4  Introduction\\n\\nPathogenic strain identificati...   \n",
       "\n",
       "                                        bibliography  \\\n",
       "0  Protease inhibitors targeting coronavirus and ...   \n",
       "1  A novel coronavirus from patients with pneumon...   \n",
       "2  The severe acute respiratory syndrome, J S Pei...   \n",
       "3  The Snf2 homolog Fun30 acts as a homodimeric A...   \n",
       "4  Vaccinia Virus Strain Differences in Cell Atta...   \n",
       "\n",
       "                                         raw_authors  \\\n",
       "0  [{'first': 'Marco', 'middle': ['R'], 'last': '...   \n",
       "1  [{'first': 'Wei', 'middle': [], 'last': 'Luo',...   \n",
       "2  [{'first': 'Xiaoqin', 'middle': [], 'last': 'G...   \n",
       "3  [{'first': 'Elisa', 'middle': [], 'last': 'Obe...   \n",
       "4  [{'first': 'Mathias', 'middle': [], 'last': 'K...   \n",
       "\n",
       "                                    raw_bibliography  \n",
       "0  {'BIBREF1': {'ref_id': 'b1', 'title': 'Proteas...  \n",
       "1  {'BIBREF0': {'ref_id': 'b0', 'title': 'A novel...  \n",
       "2  {'BIBREF0': {'ref_id': 'b0', 'title': 'The sev...  \n",
       "3  {'BIBREF0': {'ref_id': 'b0', 'title': 'The Snf...  \n",
       "4  {'BIBREF0': {'ref_id': 'b0', 'title': 'Vaccini...  "
      ]
     },
     "execution_count": 23,
     "metadata": {},
     "output_type": "execute_result"
    }
   ],
   "source": [
    "col_names = [\n",
    "    'paper_id', \n",
    "    'title', \n",
    "    'authors',\n",
    "    'affiliations', \n",
    "    'abstract', \n",
    "    'text', \n",
    "    'bibliography',\n",
    "    'raw_authors',\n",
    "    'raw_bibliography'\n",
    "]\n",
    "\n",
    "clean_df = pd.DataFrame(cleaned_files, columns=col_names)\n",
    "clean_df.head()"
   ]
  },
  {
   "cell_type": "code",
   "execution_count": 24,
   "metadata": {},
   "outputs": [],
   "source": [
    "clean_df.to_csv('biorxiv_clean.csv', index=False)"
   ]
  },
  {
   "cell_type": "markdown",
   "metadata": {},
   "source": [
    "## PMC: Generate CSV"
   ]
  },
  {
   "cell_type": "code",
   "execution_count": 25,
   "metadata": {},
   "outputs": [
    {
     "data": {
      "application/vnd.jupyter.widget-view+json": {
       "model_id": "50178de77f224f40a1d6f0e52effd475",
       "version_major": 2,
       "version_minor": 0
      },
      "text/plain": [
       "HBox(children=(FloatProgress(value=0.0, max=1426.0), HTML(value='')))"
      ]
     },
     "metadata": {},
     "output_type": "display_data"
    },
    {
     "name": "stdout",
     "output_type": "stream",
     "text": [
      "\n"
     ]
    },
    {
     "data": {
      "application/vnd.jupyter.widget-view+json": {
       "model_id": "55a8ae51090847edbf2a84c936f272c1",
       "version_major": 2,
       "version_minor": 0
      },
      "text/plain": [
       "HBox(children=(FloatProgress(value=0.0, max=1426.0), HTML(value='')))"
      ]
     },
     "metadata": {},
     "output_type": "display_data"
    },
    {
     "name": "stdout",
     "output_type": "stream",
     "text": [
      "\n"
     ]
    },
    {
     "data": {
      "text/html": [
       "<div>\n",
       "<style scoped>\n",
       "    .dataframe tbody tr th:only-of-type {\n",
       "        vertical-align: middle;\n",
       "    }\n",
       "\n",
       "    .dataframe tbody tr th {\n",
       "        vertical-align: top;\n",
       "    }\n",
       "\n",
       "    .dataframe thead th {\n",
       "        text-align: right;\n",
       "    }\n",
       "</style>\n",
       "<table border=\"1\" class=\"dataframe\">\n",
       "  <thead>\n",
       "    <tr style=\"text-align: right;\">\n",
       "      <th></th>\n",
       "      <th>paper_id</th>\n",
       "      <th>title</th>\n",
       "      <th>authors</th>\n",
       "      <th>affiliations</th>\n",
       "      <th>abstract</th>\n",
       "      <th>text</th>\n",
       "      <th>bibliography</th>\n",
       "      <th>raw_authors</th>\n",
       "      <th>raw_bibliography</th>\n",
       "    </tr>\n",
       "  </thead>\n",
       "  <tbody>\n",
       "    <tr>\n",
       "      <th>0</th>\n",
       "      <td>05326cc45fa2898c5850df85d30dad3d2c82acef</td>\n",
       "      <td>References 1. STI Study Group. Syphilis and go...</td>\n",
       "      <td>J P Doris, K Saha, N P Jones</td>\n",
       "      <td>J P Doris, K Saha, N P Jones</td>\n",
       "      <td></td>\n",
       "      <td>\\n\\nA quatic wild birds are the natural reserv...</td>\n",
       "      <td>Evolution and ecology of influenza A viruses, ...</td>\n",
       "      <td>[{'first': 'J', 'middle': ['P'], 'last': 'Dori...</td>\n",
       "      <td>{'BIBREF0': {'ref_id': 'b0', 'title': 'Evoluti...</td>\n",
       "    </tr>\n",
       "    <tr>\n",
       "      <th>1</th>\n",
       "      <td>4c7759f1da349496e9308d9f4f0d4e071a23c19f</td>\n",
       "      <td></td>\n",
       "      <td></td>\n",
       "      <td></td>\n",
       "      <td></td>\n",
       "      <td>\\n\\nP andemic preparedness ideally would inclu...</td>\n",
       "      <td>Avian influenza: assessing the pandemic threat...</td>\n",
       "      <td>[]</td>\n",
       "      <td>{'BIBREF0': {'ref_id': 'b0', 'title': 'Avian i...</td>\n",
       "    </tr>\n",
       "    <tr>\n",
       "      <th>2</th>\n",
       "      <td>4fc3b508543068a9d54f11f0ecf52580df768307</td>\n",
       "      <td></td>\n",
       "      <td>Carol Y Rao, Grace W Goryoka, Olga L Henao, Ke...</td>\n",
       "      <td>Carol Y Rao (Emory University, Atlanta (G.W. G...</td>\n",
       "      <td>Abstract\\n\\nThe Centers for Disease Control an...</td>\n",
       "      <td>\\n\\nI nfectious disease outbreaks present a se...</td>\n",
       "      <td>US Centers for Disease Control and Prevention ...</td>\n",
       "      <td>[{'first': 'Carol', 'middle': ['Y'], 'last': '...</td>\n",
       "      <td>{'BIBREF0': {'ref_id': 'b0', 'title': 'US Cent...</td>\n",
       "    </tr>\n",
       "    <tr>\n",
       "      <th>3</th>\n",
       "      <td>867e1b0f6ca8757f2a32a625d99b23888ab40d49</td>\n",
       "      <td>Comparisons of substitution, insertion and del...</td>\n",
       "      <td>Mazen W Karaman, Susan Groshen, Chi-Chiang Lee...</td>\n",
       "      <td>Mazen W Karaman, Susan Groshen (University of ...</td>\n",
       "      <td>Abstract\\n\\nAlthough oligonucleotide probes co...</td>\n",
       "      <td>INTRODUCTION\\n\\nOligonucleotide microarrays ar...</td>\n",
       "      <td>Sequence variation in genes and genomic DNA: m...</td>\n",
       "      <td>[{'first': 'Mazen', 'middle': ['W'], 'last': '...</td>\n",
       "      <td>{'BIBREF0': {'ref_id': 'b0', 'title': 'Sequenc...</td>\n",
       "    </tr>\n",
       "    <tr>\n",
       "      <th>4</th>\n",
       "      <td>713670f3bba541ae77e6ac7bb32c9ea27c01e19d</td>\n",
       "      <td>Transmission of Middle East Respiratory Syndro...</td>\n",
       "      <td>Jennifer C Hunter, Duc Nguyen, Bashir Aden, Zy...</td>\n",
       "      <td>Jennifer C Hunter (1600 Clifton Road NE, Mails...</td>\n",
       "      <td>Abstract\\n\\nMiddle East respiratory syndrome c...</td>\n",
       "      <td>M iddle East respiratory syndrome coronavirus ...</td>\n",
       "      <td>Middle East respiratory syndrome coronavirus i...</td>\n",
       "      <td>[{'first': 'Jennifer', 'middle': ['C'], 'last'...</td>\n",
       "      <td>{'BIBREF0': {'ref_id': 'b0', 'title': 'Middle ...</td>\n",
       "    </tr>\n",
       "  </tbody>\n",
       "</table>\n",
       "</div>"
      ],
      "text/plain": [
       "                                   paper_id  \\\n",
       "0  05326cc45fa2898c5850df85d30dad3d2c82acef   \n",
       "1  4c7759f1da349496e9308d9f4f0d4e071a23c19f   \n",
       "2  4fc3b508543068a9d54f11f0ecf52580df768307   \n",
       "3  867e1b0f6ca8757f2a32a625d99b23888ab40d49   \n",
       "4  713670f3bba541ae77e6ac7bb32c9ea27c01e19d   \n",
       "\n",
       "                                               title  \\\n",
       "0  References 1. STI Study Group. Syphilis and go...   \n",
       "1                                                      \n",
       "2                                                      \n",
       "3  Comparisons of substitution, insertion and del...   \n",
       "4  Transmission of Middle East Respiratory Syndro...   \n",
       "\n",
       "                                             authors  \\\n",
       "0                       J P Doris, K Saha, N P Jones   \n",
       "1                                                      \n",
       "2  Carol Y Rao, Grace W Goryoka, Olga L Henao, Ke...   \n",
       "3  Mazen W Karaman, Susan Groshen, Chi-Chiang Lee...   \n",
       "4  Jennifer C Hunter, Duc Nguyen, Bashir Aden, Zy...   \n",
       "\n",
       "                                        affiliations  \\\n",
       "0                       J P Doris, K Saha, N P Jones   \n",
       "1                                                      \n",
       "2  Carol Y Rao (Emory University, Atlanta (G.W. G...   \n",
       "3  Mazen W Karaman, Susan Groshen (University of ...   \n",
       "4  Jennifer C Hunter (1600 Clifton Road NE, Mails...   \n",
       "\n",
       "                                            abstract  \\\n",
       "0                                                      \n",
       "1                                                      \n",
       "2  Abstract\\n\\nThe Centers for Disease Control an...   \n",
       "3  Abstract\\n\\nAlthough oligonucleotide probes co...   \n",
       "4  Abstract\\n\\nMiddle East respiratory syndrome c...   \n",
       "\n",
       "                                                text  \\\n",
       "0  \\n\\nA quatic wild birds are the natural reserv...   \n",
       "1  \\n\\nP andemic preparedness ideally would inclu...   \n",
       "2  \\n\\nI nfectious disease outbreaks present a se...   \n",
       "3  INTRODUCTION\\n\\nOligonucleotide microarrays ar...   \n",
       "4  M iddle East respiratory syndrome coronavirus ...   \n",
       "\n",
       "                                        bibliography  \\\n",
       "0  Evolution and ecology of influenza A viruses, ...   \n",
       "1  Avian influenza: assessing the pandemic threat...   \n",
       "2  US Centers for Disease Control and Prevention ...   \n",
       "3  Sequence variation in genes and genomic DNA: m...   \n",
       "4  Middle East respiratory syndrome coronavirus i...   \n",
       "\n",
       "                                         raw_authors  \\\n",
       "0  [{'first': 'J', 'middle': ['P'], 'last': 'Dori...   \n",
       "1                                                 []   \n",
       "2  [{'first': 'Carol', 'middle': ['Y'], 'last': '...   \n",
       "3  [{'first': 'Mazen', 'middle': ['W'], 'last': '...   \n",
       "4  [{'first': 'Jennifer', 'middle': ['C'], 'last'...   \n",
       "\n",
       "                                    raw_bibliography  \n",
       "0  {'BIBREF0': {'ref_id': 'b0', 'title': 'Evoluti...  \n",
       "1  {'BIBREF0': {'ref_id': 'b0', 'title': 'Avian i...  \n",
       "2  {'BIBREF0': {'ref_id': 'b0', 'title': 'US Cent...  \n",
       "3  {'BIBREF0': {'ref_id': 'b0', 'title': 'Sequenc...  \n",
       "4  {'BIBREF0': {'ref_id': 'b0', 'title': 'Middle ...  "
      ]
     },
     "execution_count": 25,
     "metadata": {},
     "output_type": "execute_result"
    }
   ],
   "source": [
    "pmc_dir = '/kaggle/input/CORD-19-research-challenge/2020-03-13/pmc_custom_license/pmc_custom_license/'\n",
    "pmc_files = load_files(pmc_dir)\n",
    "pmc_df = generate_clean_df(pmc_files)\n",
    "pmc_df.head()"
   ]
  },
  {
   "cell_type": "code",
   "execution_count": 26,
   "metadata": {},
   "outputs": [],
   "source": [
    "pmc_df.to_csv('clean_pmc.csv', index=False)"
   ]
  },
  {
   "cell_type": "markdown",
   "metadata": {},
   "source": [
    "## Commercial Use: Generate CSV"
   ]
  },
  {
   "cell_type": "code",
   "execution_count": 27,
   "metadata": {},
   "outputs": [
    {
     "data": {
      "application/vnd.jupyter.widget-view+json": {
       "model_id": "1e19bdb6161548a49a970218a4a0a95f",
       "version_major": 2,
       "version_minor": 0
      },
      "text/plain": [
       "HBox(children=(FloatProgress(value=0.0, max=9000.0), HTML(value='')))"
      ]
     },
     "metadata": {},
     "output_type": "display_data"
    },
    {
     "name": "stdout",
     "output_type": "stream",
     "text": [
      "\n"
     ]
    },
    {
     "data": {
      "application/vnd.jupyter.widget-view+json": {
       "model_id": "d78abe3e5f1f4ee1a2c454bd0e053eaa",
       "version_major": 2,
       "version_minor": 0
      },
      "text/plain": [
       "HBox(children=(FloatProgress(value=0.0, max=9000.0), HTML(value='')))"
      ]
     },
     "metadata": {},
     "output_type": "display_data"
    },
    {
     "name": "stdout",
     "output_type": "stream",
     "text": [
      "\n"
     ]
    },
    {
     "data": {
      "text/html": [
       "<div>\n",
       "<style scoped>\n",
       "    .dataframe tbody tr th:only-of-type {\n",
       "        vertical-align: middle;\n",
       "    }\n",
       "\n",
       "    .dataframe tbody tr th {\n",
       "        vertical-align: top;\n",
       "    }\n",
       "\n",
       "    .dataframe thead th {\n",
       "        text-align: right;\n",
       "    }\n",
       "</style>\n",
       "<table border=\"1\" class=\"dataframe\">\n",
       "  <thead>\n",
       "    <tr style=\"text-align: right;\">\n",
       "      <th></th>\n",
       "      <th>paper_id</th>\n",
       "      <th>title</th>\n",
       "      <th>authors</th>\n",
       "      <th>affiliations</th>\n",
       "      <th>abstract</th>\n",
       "      <th>text</th>\n",
       "      <th>bibliography</th>\n",
       "      <th>raw_authors</th>\n",
       "      <th>raw_bibliography</th>\n",
       "    </tr>\n",
       "  </thead>\n",
       "  <tbody>\n",
       "    <tr>\n",
       "      <th>0</th>\n",
       "      <td>25621281691205eb015383cbac839182b838514f</td>\n",
       "      <td>SMARCA2-regulated host cell factors are requir...</td>\n",
       "      <td>Dominik Dornfeld, Alexandra H Dudek, Thibaut V...</td>\n",
       "      <td>Dominik Dornfeld (University of Freiburg, 7910...</td>\n",
       "      <td>Abstract\\n\\nThe human interferon (IFN)-induced...</td>\n",
       "      <td>\\n\\nInfluenza A viruses (IAV) are severe human...</td>\n",
       "      <td>Influenza virus evolution, host adaptation, an...</td>\n",
       "      <td>[{'first': 'Dominik', 'middle': [], 'last': 'D...</td>\n",
       "      <td>{'BIBREF0': {'ref_id': 'b0', 'title': 'Influen...</td>\n",
       "    </tr>\n",
       "    <tr>\n",
       "      <th>1</th>\n",
       "      <td>7db22f7f81977109d493a0edf8ed75562648e839</td>\n",
       "      <td>Recombinant Scorpine Produced Using SUMO Fusio...</td>\n",
       "      <td>Chao Zhang, Xinlong He, Yaping Gu, Huayun Zhou...</td>\n",
       "      <td>Chao Zhang (Medical College of Soochow Univers...</td>\n",
       "      <td>Abstract\\n\\nScorpine, a small cationic peptide...</td>\n",
       "      <td>Introduction\\n\\nThe oldest known scorpions liv...</td>\n",
       "      <td>Oxygen transport proteins: I. Structure and or...</td>\n",
       "      <td>[{'first': 'Chao', 'middle': [], 'last': 'Zhan...</td>\n",
       "      <td>{'BIBREF0': {'ref_id': 'b0', 'title': 'Oxygen ...</td>\n",
       "    </tr>\n",
       "    <tr>\n",
       "      <th>2</th>\n",
       "      <td>a137eb51461b4a4ed3980aa5b9cb2f2c1cf0292a</td>\n",
       "      <td>The effect of inhibition of PP1 and TNFα signa...</td>\n",
       "      <td>Jason E Mcdermott, Hugh D Mitchell, Lisa E Gra...</td>\n",
       "      <td>Jason E Mcdermott, Hugh D Mitchell, Lisa E Gra...</td>\n",
       "      <td>Abstract\\n\\nBackground: The complex interplay ...</td>\n",
       "      <td>Background\\n\\nThe emergence of Severe Acute Re...</td>\n",
       "      <td>Isolation of a novel coronavirus from a man wi...</td>\n",
       "      <td>[{'first': 'Jason', 'middle': ['E'], 'last': '...</td>\n",
       "      <td>{'BIBREF0': {'ref_id': 'b0', 'title': 'Isolati...</td>\n",
       "    </tr>\n",
       "    <tr>\n",
       "      <th>3</th>\n",
       "      <td>6c3e1a43f0e199876d4bd9ff787e1911fd5cfaa6</td>\n",
       "      <td>Review Article Microbial Agents as Putative In...</td>\n",
       "      <td>Rossella Talotta, Piercarlo Sarzi-Puttini, Fab...</td>\n",
       "      <td>Rossella Talotta (University of Milan, Milan, ...</td>\n",
       "      <td></td>\n",
       "      <td>Introduction\\n\\nSjögren's syndrome (SS) is a c...</td>\n",
       "      <td>Reviewing primary Sjögren's syndrome: beyond t...</td>\n",
       "      <td>[{'first': 'Rossella', 'middle': [], 'last': '...</td>\n",
       "      <td>{'BIBREF0': {'ref_id': 'b0', 'title': 'Reviewi...</td>\n",
       "    </tr>\n",
       "    <tr>\n",
       "      <th>4</th>\n",
       "      <td>2ce201c2ba233a562ee605a9aa12d2719cfa2beb</td>\n",
       "      <td>A cluster of adenovirus type B55 infection in ...</td>\n",
       "      <td>Lina Yi, Lirong Zou, Jing Lu, Min Kang, Yingch...</td>\n",
       "      <td>Lina Yi, Lirong Zou, Jing Lu, Min Kang, Yingch...</td>\n",
       "      <td>Abstract\\n\\nBackground: Human adenovirus type ...</td>\n",
       "      <td>| INTRODUCTION\\n\\nHuman adenovirus (HAdV) is a...</td>\n",
       "      <td>Clinical features and treatment of adenovirus ...</td>\n",
       "      <td>[{'first': 'Lina', 'middle': [], 'last': 'Yi',...</td>\n",
       "      <td>{'BIBREF0': {'ref_id': 'b0', 'title': 'Clinica...</td>\n",
       "    </tr>\n",
       "  </tbody>\n",
       "</table>\n",
       "</div>"
      ],
      "text/plain": [
       "                                   paper_id  \\\n",
       "0  25621281691205eb015383cbac839182b838514f   \n",
       "1  7db22f7f81977109d493a0edf8ed75562648e839   \n",
       "2  a137eb51461b4a4ed3980aa5b9cb2f2c1cf0292a   \n",
       "3  6c3e1a43f0e199876d4bd9ff787e1911fd5cfaa6   \n",
       "4  2ce201c2ba233a562ee605a9aa12d2719cfa2beb   \n",
       "\n",
       "                                               title  \\\n",
       "0  SMARCA2-regulated host cell factors are requir...   \n",
       "1  Recombinant Scorpine Produced Using SUMO Fusio...   \n",
       "2  The effect of inhibition of PP1 and TNFα signa...   \n",
       "3  Review Article Microbial Agents as Putative In...   \n",
       "4  A cluster of adenovirus type B55 infection in ...   \n",
       "\n",
       "                                             authors  \\\n",
       "0  Dominik Dornfeld, Alexandra H Dudek, Thibaut V...   \n",
       "1  Chao Zhang, Xinlong He, Yaping Gu, Huayun Zhou...   \n",
       "2  Jason E Mcdermott, Hugh D Mitchell, Lisa E Gra...   \n",
       "3  Rossella Talotta, Piercarlo Sarzi-Puttini, Fab...   \n",
       "4  Lina Yi, Lirong Zou, Jing Lu, Min Kang, Yingch...   \n",
       "\n",
       "                                        affiliations  \\\n",
       "0  Dominik Dornfeld (University of Freiburg, 7910...   \n",
       "1  Chao Zhang (Medical College of Soochow Univers...   \n",
       "2  Jason E Mcdermott, Hugh D Mitchell, Lisa E Gra...   \n",
       "3  Rossella Talotta (University of Milan, Milan, ...   \n",
       "4  Lina Yi, Lirong Zou, Jing Lu, Min Kang, Yingch...   \n",
       "\n",
       "                                            abstract  \\\n",
       "0  Abstract\\n\\nThe human interferon (IFN)-induced...   \n",
       "1  Abstract\\n\\nScorpine, a small cationic peptide...   \n",
       "2  Abstract\\n\\nBackground: The complex interplay ...   \n",
       "3                                                      \n",
       "4  Abstract\\n\\nBackground: Human adenovirus type ...   \n",
       "\n",
       "                                                text  \\\n",
       "0  \\n\\nInfluenza A viruses (IAV) are severe human...   \n",
       "1  Introduction\\n\\nThe oldest known scorpions liv...   \n",
       "2  Background\\n\\nThe emergence of Severe Acute Re...   \n",
       "3  Introduction\\n\\nSjögren's syndrome (SS) is a c...   \n",
       "4  | INTRODUCTION\\n\\nHuman adenovirus (HAdV) is a...   \n",
       "\n",
       "                                        bibliography  \\\n",
       "0  Influenza virus evolution, host adaptation, an...   \n",
       "1  Oxygen transport proteins: I. Structure and or...   \n",
       "2  Isolation of a novel coronavirus from a man wi...   \n",
       "3  Reviewing primary Sjögren's syndrome: beyond t...   \n",
       "4  Clinical features and treatment of adenovirus ...   \n",
       "\n",
       "                                         raw_authors  \\\n",
       "0  [{'first': 'Dominik', 'middle': [], 'last': 'D...   \n",
       "1  [{'first': 'Chao', 'middle': [], 'last': 'Zhan...   \n",
       "2  [{'first': 'Jason', 'middle': ['E'], 'last': '...   \n",
       "3  [{'first': 'Rossella', 'middle': [], 'last': '...   \n",
       "4  [{'first': 'Lina', 'middle': [], 'last': 'Yi',...   \n",
       "\n",
       "                                    raw_bibliography  \n",
       "0  {'BIBREF0': {'ref_id': 'b0', 'title': 'Influen...  \n",
       "1  {'BIBREF0': {'ref_id': 'b0', 'title': 'Oxygen ...  \n",
       "2  {'BIBREF0': {'ref_id': 'b0', 'title': 'Isolati...  \n",
       "3  {'BIBREF0': {'ref_id': 'b0', 'title': 'Reviewi...  \n",
       "4  {'BIBREF0': {'ref_id': 'b0', 'title': 'Clinica...  "
      ]
     },
     "execution_count": 27,
     "metadata": {},
     "output_type": "execute_result"
    }
   ],
   "source": [
    "comm_dir = '/kaggle/input/CORD-19-research-challenge/2020-03-13/comm_use_subset/comm_use_subset/'\n",
    "comm_files = load_files(comm_dir)\n",
    "comm_df = generate_clean_df(comm_files)\n",
    "comm_df.head()"
   ]
  },
  {
   "cell_type": "code",
   "execution_count": 28,
   "metadata": {},
   "outputs": [],
   "source": [
    "comm_df.to_csv('clean_comm_use.csv', index=False)"
   ]
  },
  {
   "cell_type": "markdown",
   "metadata": {},
   "source": [
    "## Non-commercial Use: Generate CSV"
   ]
  },
  {
   "cell_type": "code",
   "execution_count": 29,
   "metadata": {},
   "outputs": [
    {
     "data": {
      "application/vnd.jupyter.widget-view+json": {
       "model_id": "4b98d3192e154610b50743adb757245e",
       "version_major": 2,
       "version_minor": 0
      },
      "text/plain": [
       "HBox(children=(FloatProgress(value=0.0, max=1973.0), HTML(value='')))"
      ]
     },
     "metadata": {},
     "output_type": "display_data"
    },
    {
     "name": "stdout",
     "output_type": "stream",
     "text": [
      "\n"
     ]
    },
    {
     "data": {
      "application/vnd.jupyter.widget-view+json": {
       "model_id": "c954a6251c6347bea9d995ecfbae7b6a",
       "version_major": 2,
       "version_minor": 0
      },
      "text/plain": [
       "HBox(children=(FloatProgress(value=0.0, max=1973.0), HTML(value='')))"
      ]
     },
     "metadata": {},
     "output_type": "display_data"
    },
    {
     "name": "stdout",
     "output_type": "stream",
     "text": [
      "\n"
     ]
    },
    {
     "data": {
      "text/html": [
       "<div>\n",
       "<style scoped>\n",
       "    .dataframe tbody tr th:only-of-type {\n",
       "        vertical-align: middle;\n",
       "    }\n",
       "\n",
       "    .dataframe tbody tr th {\n",
       "        vertical-align: top;\n",
       "    }\n",
       "\n",
       "    .dataframe thead th {\n",
       "        text-align: right;\n",
       "    }\n",
       "</style>\n",
       "<table border=\"1\" class=\"dataframe\">\n",
       "  <thead>\n",
       "    <tr style=\"text-align: right;\">\n",
       "      <th></th>\n",
       "      <th>paper_id</th>\n",
       "      <th>title</th>\n",
       "      <th>authors</th>\n",
       "      <th>affiliations</th>\n",
       "      <th>abstract</th>\n",
       "      <th>text</th>\n",
       "      <th>bibliography</th>\n",
       "      <th>raw_authors</th>\n",
       "      <th>raw_bibliography</th>\n",
       "    </tr>\n",
       "  </thead>\n",
       "  <tbody>\n",
       "    <tr>\n",
       "      <th>0</th>\n",
       "      <td>bbfbefd19c9c471dbacabd1f57124d1ad36f24f5</td>\n",
       "      <td>Selection of Reference Genes for Gene Expressi...</td>\n",
       "      <td>Jiying Wang, Yanping Wang, Huaizhong Wang, Xia...</td>\n",
       "      <td>Jiying Wang, Yanping Wang, Huaizhong Wang, Xia...</td>\n",
       "      <td>Abstract\\n\\nInvestigating gene expression of i...</td>\n",
       "      <td>Quantitative\\n\\nreal-time PCR (qRT-PCR) can si...</td>\n",
       "      <td>Normalization of real-time quantitative revers...</td>\n",
       "      <td>[{'first': 'Jiying', 'middle': [], 'last': 'Wa...</td>\n",
       "      <td>{'BIBREF0': {'ref_id': 'b0', 'title': 'Normali...</td>\n",
       "    </tr>\n",
       "    <tr>\n",
       "      <th>1</th>\n",
       "      <td>c84aa58b12823cdd6f119b4da3b0c4ba488856b5</td>\n",
       "      <td></td>\n",
       "      <td></td>\n",
       "      <td></td>\n",
       "      <td></td>\n",
       "      <td>\\n\\nlogical studies can be used to control dis...</td>\n",
       "      <td>Digital methods in epidemiology can transform ...</td>\n",
       "      <td>[]</td>\n",
       "      <td>{'BIBREF0': {'ref_id': 'b0', 'title': 'Digital...</td>\n",
       "    </tr>\n",
       "    <tr>\n",
       "      <th>2</th>\n",
       "      <td>32b8b12a0247b3413442631d5a1bee05a4e5d689</td>\n",
       "      <td>H O W D O I ? How do we … integrate pathogen r...</td>\n",
       "      <td>Sara Rutter, Edward L Snyder</td>\n",
       "      <td>Sara Rutter, Edward L Snyder</td>\n",
       "      <td>Abstract\\n\\nABBREVIATIONS: ARDS = acute respir...</td>\n",
       "      <td>\\n\\nFor more than 50 years there has been an o...</td>\n",
       "      <td>Cerus Corporation. FDA approves pathogen reduc...</td>\n",
       "      <td>[{'first': 'Sara', 'middle': [], 'last': 'Rutt...</td>\n",
       "      <td>{'BIBREF0': {'ref_id': 'b0', 'title': 'Cerus C...</td>\n",
       "    </tr>\n",
       "    <tr>\n",
       "      <th>3</th>\n",
       "      <td>52069d14f038d493dce5d6cc1fdcdc7c1f0823f9</td>\n",
       "      <td></td>\n",
       "      <td></td>\n",
       "      <td></td>\n",
       "      <td></td>\n",
       "      <td>\\n\\nCanine leishmaniasis is an important infec...</td>\n",
       "      <td>Veterinary Pathology, which is partially funde...</td>\n",
       "      <td>[]</td>\n",
       "      <td>{'BIBREF0': {'ref_id': 'b0', 'title': 'Veterin...</td>\n",
       "    </tr>\n",
       "    <tr>\n",
       "      <th>4</th>\n",
       "      <td>1f7394c2575f1eb1a196c9f19cd4b57ddd05789b</td>\n",
       "      <td>Quantifying Pathogen Surveillance Using Tempor...</td>\n",
       "      <td>Joseph M Chan, Raul Rabadan</td>\n",
       "      <td>Joseph M Chan, Raul Rabadan (Columbia Universi...</td>\n",
       "      <td>Abstract\\n\\nWith the advent of deep sequencing...</td>\n",
       "      <td>\\n\\nD espite many therapeutic and epidemiologi...</td>\n",
       "      <td>The world health Report 2004 -changing history...</td>\n",
       "      <td>[{'first': 'Joseph', 'middle': ['M'], 'last': ...</td>\n",
       "      <td>{'BIBREF0': {'ref_id': 'b0', 'title': 'The wor...</td>\n",
       "    </tr>\n",
       "  </tbody>\n",
       "</table>\n",
       "</div>"
      ],
      "text/plain": [
       "                                   paper_id  \\\n",
       "0  bbfbefd19c9c471dbacabd1f57124d1ad36f24f5   \n",
       "1  c84aa58b12823cdd6f119b4da3b0c4ba488856b5   \n",
       "2  32b8b12a0247b3413442631d5a1bee05a4e5d689   \n",
       "3  52069d14f038d493dce5d6cc1fdcdc7c1f0823f9   \n",
       "4  1f7394c2575f1eb1a196c9f19cd4b57ddd05789b   \n",
       "\n",
       "                                               title  \\\n",
       "0  Selection of Reference Genes for Gene Expressi...   \n",
       "1                                                      \n",
       "2  H O W D O I ? How do we … integrate pathogen r...   \n",
       "3                                                      \n",
       "4  Quantifying Pathogen Surveillance Using Tempor...   \n",
       "\n",
       "                                             authors  \\\n",
       "0  Jiying Wang, Yanping Wang, Huaizhong Wang, Xia...   \n",
       "1                                                      \n",
       "2                       Sara Rutter, Edward L Snyder   \n",
       "3                                                      \n",
       "4                        Joseph M Chan, Raul Rabadan   \n",
       "\n",
       "                                        affiliations  \\\n",
       "0  Jiying Wang, Yanping Wang, Huaizhong Wang, Xia...   \n",
       "1                                                      \n",
       "2                       Sara Rutter, Edward L Snyder   \n",
       "3                                                      \n",
       "4  Joseph M Chan, Raul Rabadan (Columbia Universi...   \n",
       "\n",
       "                                            abstract  \\\n",
       "0  Abstract\\n\\nInvestigating gene expression of i...   \n",
       "1                                                      \n",
       "2  Abstract\\n\\nABBREVIATIONS: ARDS = acute respir...   \n",
       "3                                                      \n",
       "4  Abstract\\n\\nWith the advent of deep sequencing...   \n",
       "\n",
       "                                                text  \\\n",
       "0  Quantitative\\n\\nreal-time PCR (qRT-PCR) can si...   \n",
       "1  \\n\\nlogical studies can be used to control dis...   \n",
       "2  \\n\\nFor more than 50 years there has been an o...   \n",
       "3  \\n\\nCanine leishmaniasis is an important infec...   \n",
       "4  \\n\\nD espite many therapeutic and epidemiologi...   \n",
       "\n",
       "                                        bibliography  \\\n",
       "0  Normalization of real-time quantitative revers...   \n",
       "1  Digital methods in epidemiology can transform ...   \n",
       "2  Cerus Corporation. FDA approves pathogen reduc...   \n",
       "3  Veterinary Pathology, which is partially funde...   \n",
       "4  The world health Report 2004 -changing history...   \n",
       "\n",
       "                                         raw_authors  \\\n",
       "0  [{'first': 'Jiying', 'middle': [], 'last': 'Wa...   \n",
       "1                                                 []   \n",
       "2  [{'first': 'Sara', 'middle': [], 'last': 'Rutt...   \n",
       "3                                                 []   \n",
       "4  [{'first': 'Joseph', 'middle': ['M'], 'last': ...   \n",
       "\n",
       "                                    raw_bibliography  \n",
       "0  {'BIBREF0': {'ref_id': 'b0', 'title': 'Normali...  \n",
       "1  {'BIBREF0': {'ref_id': 'b0', 'title': 'Digital...  \n",
       "2  {'BIBREF0': {'ref_id': 'b0', 'title': 'Cerus C...  \n",
       "3  {'BIBREF0': {'ref_id': 'b0', 'title': 'Veterin...  \n",
       "4  {'BIBREF0': {'ref_id': 'b0', 'title': 'The wor...  "
      ]
     },
     "execution_count": 29,
     "metadata": {},
     "output_type": "execute_result"
    }
   ],
   "source": [
    "noncomm_dir = '/kaggle/input/CORD-19-research-challenge/2020-03-13/noncomm_use_subset/noncomm_use_subset/'\n",
    "noncomm_files = load_files(noncomm_dir)\n",
    "noncomm_df = generate_clean_df(noncomm_files)\n",
    "noncomm_df.head()"
   ]
  },
  {
   "cell_type": "code",
   "execution_count": 30,
   "metadata": {},
   "outputs": [],
   "source": [
    "noncomm_df.to_csv('clean_noncomm_use.csv', index=False)"
   ]
  }
 ],
 "metadata": {
  "kernelspec": {
   "display_name": "Python 3",
   "language": "python",
   "name": "python3"
  },
  "language_info": {
   "codemirror_mode": {
    "name": "ipython",
    "version": 3
   },
   "file_extension": ".py",
   "mimetype": "text/x-python",
   "name": "python",
   "nbconvert_exporter": "python",
   "pygments_lexer": "ipython3",
   "version": "3.6.6"
  },
  "widgets": {
   "application/vnd.jupyter.widget-state+json": {
    "state": {
     "05b3f698368c454eaf7838b4ff064f3c": {
      "model_module": "@jupyter-widgets/controls",
      "model_module_version": "1.5.0",
      "model_name": "FloatProgressModel",
      "state": {
       "_dom_classes": [],
       "_model_module": "@jupyter-widgets/controls",
       "_model_module_version": "1.5.0",
       "_model_name": "FloatProgressModel",
       "_view_count": null,
       "_view_module": "@jupyter-widgets/controls",
       "_view_module_version": "1.5.0",
       "_view_name": "ProgressView",
       "bar_style": "success",
       "description": "100%",
       "description_tooltip": null,
       "layout": "IPY_MODEL_4a344454b4114b2abea2523283ae9efa",
       "max": 1426.0,
       "min": 0.0,
       "orientation": "horizontal",
       "style": "IPY_MODEL_a722aafed3f34a25a85f9ef396373aca",
       "value": 1426.0
      }
     },
     "075833ffb28e4d54ab767912a7194a07": {
      "model_module": "@jupyter-widgets/controls",
      "model_module_version": "1.5.0",
      "model_name": "ProgressStyleModel",
      "state": {
       "_model_module": "@jupyter-widgets/controls",
       "_model_module_version": "1.5.0",
       "_model_name": "ProgressStyleModel",
       "_view_count": null,
       "_view_module": "@jupyter-widgets/base",
       "_view_module_version": "1.2.0",
       "_view_name": "StyleView",
       "bar_color": null,
       "description_width": "initial"
      }
     },
     "0960644eead247c3bd1531b3c4f3f4a1": {
      "model_module": "@jupyter-widgets/controls",
      "model_module_version": "1.5.0",
      "model_name": "HBoxModel",
      "state": {
       "_dom_classes": [],
       "_model_module": "@jupyter-widgets/controls",
       "_model_module_version": "1.5.0",
       "_model_name": "HBoxModel",
       "_view_count": null,
       "_view_module": "@jupyter-widgets/controls",
       "_view_module_version": "1.5.0",
       "_view_name": "HBoxView",
       "box_style": "",
       "children": [
        "IPY_MODEL_e77d75930e154cfa818a73c8d74c66b8",
        "IPY_MODEL_6e4f8d4a17814ccc9a51e5f0f569b11f"
       ],
       "layout": "IPY_MODEL_5354f46ec8c24f81a826aa4840215f6a"
      }
     },
     "0bc96d4be6d64e278328a54276782726": {
      "model_module": "@jupyter-widgets/controls",
      "model_module_version": "1.5.0",
      "model_name": "ProgressStyleModel",
      "state": {
       "_model_module": "@jupyter-widgets/controls",
       "_model_module_version": "1.5.0",
       "_model_name": "ProgressStyleModel",
       "_view_count": null,
       "_view_module": "@jupyter-widgets/base",
       "_view_module_version": "1.2.0",
       "_view_name": "StyleView",
       "bar_color": null,
       "description_width": "initial"
      }
     },
     "0e5448c98e4941dea3312e3261eb25be": {
      "model_module": "@jupyter-widgets/base",
      "model_module_version": "1.2.0",
      "model_name": "LayoutModel",
      "state": {
       "_model_module": "@jupyter-widgets/base",
       "_model_module_version": "1.2.0",
       "_model_name": "LayoutModel",
       "_view_count": null,
       "_view_module": "@jupyter-widgets/base",
       "_view_module_version": "1.2.0",
       "_view_name": "LayoutView",
       "align_content": null,
       "align_items": null,
       "align_self": null,
       "border": null,
       "bottom": null,
       "display": null,
       "flex": null,
       "flex_flow": null,
       "grid_area": null,
       "grid_auto_columns": null,
       "grid_auto_flow": null,
       "grid_auto_rows": null,
       "grid_column": null,
       "grid_gap": null,
       "grid_row": null,
       "grid_template_areas": null,
       "grid_template_columns": null,
       "grid_template_rows": null,
       "height": null,
       "justify_content": null,
       "justify_items": null,
       "left": null,
       "margin": null,
       "max_height": null,
       "max_width": null,
       "min_height": null,
       "min_width": null,
       "object_fit": null,
       "object_position": null,
       "order": null,
       "overflow": null,
       "overflow_x": null,
       "overflow_y": null,
       "padding": null,
       "right": null,
       "top": null,
       "visibility": null,
       "width": null
      }
     },
     "13bbb05095f44c659c6c8ddcc9378b6d": {
      "model_module": "@jupyter-widgets/controls",
      "model_module_version": "1.5.0",
      "model_name": "FloatProgressModel",
      "state": {
       "_dom_classes": [],
       "_model_module": "@jupyter-widgets/controls",
       "_model_module_version": "1.5.0",
       "_model_name": "FloatProgressModel",
       "_view_count": null,
       "_view_module": "@jupyter-widgets/controls",
       "_view_module_version": "1.5.0",
       "_view_name": "ProgressView",
       "bar_style": "success",
       "description": "100%",
       "description_tooltip": null,
       "layout": "IPY_MODEL_d5a3b7d1e75141d98fecdcf86bcbd0e6",
       "max": 1426.0,
       "min": 0.0,
       "orientation": "horizontal",
       "style": "IPY_MODEL_248336f7af9d4ee48372ace26309085b",
       "value": 1426.0
      }
     },
     "1a72f71bb0f44181a867c9471d101b4b": {
      "model_module": "@jupyter-widgets/controls",
      "model_module_version": "1.5.0",
      "model_name": "HTMLModel",
      "state": {
       "_dom_classes": [],
       "_model_module": "@jupyter-widgets/controls",
       "_model_module_version": "1.5.0",
       "_model_name": "HTMLModel",
       "_view_count": null,
       "_view_module": "@jupyter-widgets/controls",
       "_view_module_version": "1.5.0",
       "_view_name": "HTMLView",
       "description": "",
       "description_tooltip": null,
       "layout": "IPY_MODEL_9dcf8bb8dc594016afa1d38bc5cc8aa7",
       "placeholder": "​",
       "style": "IPY_MODEL_ec8477f786974c2195985e139f6dbc0a",
       "value": " 1426/1426 [00:16&lt;00:00, 85.87it/s]"
      }
     },
     "1d3f6d2e1eac4e2e9e3f5c2dd6184546": {
      "model_module": "@jupyter-widgets/base",
      "model_module_version": "1.2.0",
      "model_name": "LayoutModel",
      "state": {
       "_model_module": "@jupyter-widgets/base",
       "_model_module_version": "1.2.0",
       "_model_name": "LayoutModel",
       "_view_count": null,
       "_view_module": "@jupyter-widgets/base",
       "_view_module_version": "1.2.0",
       "_view_name": "LayoutView",
       "align_content": null,
       "align_items": null,
       "align_self": null,
       "border": null,
       "bottom": null,
       "display": null,
       "flex": null,
       "flex_flow": null,
       "grid_area": null,
       "grid_auto_columns": null,
       "grid_auto_flow": null,
       "grid_auto_rows": null,
       "grid_column": null,
       "grid_gap": null,
       "grid_row": null,
       "grid_template_areas": null,
       "grid_template_columns": null,
       "grid_template_rows": null,
       "height": null,
       "justify_content": null,
       "justify_items": null,
       "left": null,
       "margin": null,
       "max_height": null,
       "max_width": null,
       "min_height": null,
       "min_width": null,
       "object_fit": null,
       "object_position": null,
       "order": null,
       "overflow": null,
       "overflow_x": null,
       "overflow_y": null,
       "padding": null,
       "right": null,
       "top": null,
       "visibility": null,
       "width": null
      }
     },
     "1dabafe1329f4d35b8c22b23cd45387c": {
      "model_module": "@jupyter-widgets/base",
      "model_module_version": "1.2.0",
      "model_name": "LayoutModel",
      "state": {
       "_model_module": "@jupyter-widgets/base",
       "_model_module_version": "1.2.0",
       "_model_name": "LayoutModel",
       "_view_count": null,
       "_view_module": "@jupyter-widgets/base",
       "_view_module_version": "1.2.0",
       "_view_name": "LayoutView",
       "align_content": null,
       "align_items": null,
       "align_self": null,
       "border": null,
       "bottom": null,
       "display": null,
       "flex": null,
       "flex_flow": null,
       "grid_area": null,
       "grid_auto_columns": null,
       "grid_auto_flow": null,
       "grid_auto_rows": null,
       "grid_column": null,
       "grid_gap": null,
       "grid_row": null,
       "grid_template_areas": null,
       "grid_template_columns": null,
       "grid_template_rows": null,
       "height": null,
       "justify_content": null,
       "justify_items": null,
       "left": null,
       "margin": null,
       "max_height": null,
       "max_width": null,
       "min_height": null,
       "min_width": null,
       "object_fit": null,
       "object_position": null,
       "order": null,
       "overflow": null,
       "overflow_x": null,
       "overflow_y": null,
       "padding": null,
       "right": null,
       "top": null,
       "visibility": null,
       "width": null
      }
     },
     "1e19bdb6161548a49a970218a4a0a95f": {
      "model_module": "@jupyter-widgets/controls",
      "model_module_version": "1.5.0",
      "model_name": "HBoxModel",
      "state": {
       "_dom_classes": [],
       "_model_module": "@jupyter-widgets/controls",
       "_model_module_version": "1.5.0",
       "_model_name": "HBoxModel",
       "_view_count": null,
       "_view_module": "@jupyter-widgets/controls",
       "_view_module_version": "1.5.0",
       "_view_name": "HBoxView",
       "box_style": "",
       "children": [
        "IPY_MODEL_337fcb5230524d9e977c8f14bb4fd822",
        "IPY_MODEL_713bf4e7eadf4110a2587710d4bb1018"
       ],
       "layout": "IPY_MODEL_d6b5b72da4cb41c88ff13fd1d8202816"
      }
     },
     "248336f7af9d4ee48372ace26309085b": {
      "model_module": "@jupyter-widgets/controls",
      "model_module_version": "1.5.0",
      "model_name": "ProgressStyleModel",
      "state": {
       "_model_module": "@jupyter-widgets/controls",
       "_model_module_version": "1.5.0",
       "_model_name": "ProgressStyleModel",
       "_view_count": null,
       "_view_module": "@jupyter-widgets/base",
       "_view_module_version": "1.2.0",
       "_view_name": "StyleView",
       "bar_color": null,
       "description_width": "initial"
      }
     },
     "29ebe7e8f5904de7bbe6f6d44405809a": {
      "model_module": "@jupyter-widgets/controls",
      "model_module_version": "1.5.0",
      "model_name": "DescriptionStyleModel",
      "state": {
       "_model_module": "@jupyter-widgets/controls",
       "_model_module_version": "1.5.0",
       "_model_name": "DescriptionStyleModel",
       "_view_count": null,
       "_view_module": "@jupyter-widgets/base",
       "_view_module_version": "1.2.0",
       "_view_name": "StyleView",
       "description_width": ""
      }
     },
     "2d5e93ddd7ff4e928fdf96ae255f09a3": {
      "model_module": "@jupyter-widgets/controls",
      "model_module_version": "1.5.0",
      "model_name": "DescriptionStyleModel",
      "state": {
       "_model_module": "@jupyter-widgets/controls",
       "_model_module_version": "1.5.0",
       "_model_name": "DescriptionStyleModel",
       "_view_count": null,
       "_view_module": "@jupyter-widgets/base",
       "_view_module_version": "1.2.0",
       "_view_name": "StyleView",
       "description_width": ""
      }
     },
     "337fcb5230524d9e977c8f14bb4fd822": {
      "model_module": "@jupyter-widgets/controls",
      "model_module_version": "1.5.0",
      "model_name": "FloatProgressModel",
      "state": {
       "_dom_classes": [],
       "_model_module": "@jupyter-widgets/controls",
       "_model_module_version": "1.5.0",
       "_model_name": "FloatProgressModel",
       "_view_count": null,
       "_view_module": "@jupyter-widgets/controls",
       "_view_module_version": "1.5.0",
       "_view_name": "ProgressView",
       "bar_style": "success",
       "description": "100%",
       "description_tooltip": null,
       "layout": "IPY_MODEL_0e5448c98e4941dea3312e3261eb25be",
       "max": 9000.0,
       "min": 0.0,
       "orientation": "horizontal",
       "style": "IPY_MODEL_ee18ec10266d442cbe379a82e0f05fd7",
       "value": 9000.0
      }
     },
     "4a344454b4114b2abea2523283ae9efa": {
      "model_module": "@jupyter-widgets/base",
      "model_module_version": "1.2.0",
      "model_name": "LayoutModel",
      "state": {
       "_model_module": "@jupyter-widgets/base",
       "_model_module_version": "1.2.0",
       "_model_name": "LayoutModel",
       "_view_count": null,
       "_view_module": "@jupyter-widgets/base",
       "_view_module_version": "1.2.0",
       "_view_name": "LayoutView",
       "align_content": null,
       "align_items": null,
       "align_self": null,
       "border": null,
       "bottom": null,
       "display": null,
       "flex": null,
       "flex_flow": null,
       "grid_area": null,
       "grid_auto_columns": null,
       "grid_auto_flow": null,
       "grid_auto_rows": null,
       "grid_column": null,
       "grid_gap": null,
       "grid_row": null,
       "grid_template_areas": null,
       "grid_template_columns": null,
       "grid_template_rows": null,
       "height": null,
       "justify_content": null,
       "justify_items": null,
       "left": null,
       "margin": null,
       "max_height": null,
       "max_width": null,
       "min_height": null,
       "min_width": null,
       "object_fit": null,
       "object_position": null,
       "order": null,
       "overflow": null,
       "overflow_x": null,
       "overflow_y": null,
       "padding": null,
       "right": null,
       "top": null,
       "visibility": null,
       "width": null
      }
     },
     "4b98d3192e154610b50743adb757245e": {
      "model_module": "@jupyter-widgets/controls",
      "model_module_version": "1.5.0",
      "model_name": "HBoxModel",
      "state": {
       "_dom_classes": [],
       "_model_module": "@jupyter-widgets/controls",
       "_model_module_version": "1.5.0",
       "_model_name": "HBoxModel",
       "_view_count": null,
       "_view_module": "@jupyter-widgets/controls",
       "_view_module_version": "1.5.0",
       "_view_name": "HBoxView",
       "box_style": "",
       "children": [
        "IPY_MODEL_b8b6c7c629a74e9986236017ab924a11",
        "IPY_MODEL_64ddc903867e4e64b0699d737b4e0230"
       ],
       "layout": "IPY_MODEL_ae4c502715ac4a4aa59045b553228fbb"
      }
     },
     "4dac57ee7e82408488b3f9c2cf38ff0c": {
      "model_module": "@jupyter-widgets/controls",
      "model_module_version": "1.5.0",
      "model_name": "FloatProgressModel",
      "state": {
       "_dom_classes": [],
       "_model_module": "@jupyter-widgets/controls",
       "_model_module_version": "1.5.0",
       "_model_name": "FloatProgressModel",
       "_view_count": null,
       "_view_module": "@jupyter-widgets/controls",
       "_view_module_version": "1.5.0",
       "_view_name": "ProgressView",
       "bar_style": "success",
       "description": "100%",
       "description_tooltip": null,
       "layout": "IPY_MODEL_5e86d6e4ba874a5d91141cb7b3f61f5f",
       "max": 1973.0,
       "min": 0.0,
       "orientation": "horizontal",
       "style": "IPY_MODEL_0bc96d4be6d64e278328a54276782726",
       "value": 1973.0
      }
     },
     "50178de77f224f40a1d6f0e52effd475": {
      "model_module": "@jupyter-widgets/controls",
      "model_module_version": "1.5.0",
      "model_name": "HBoxModel",
      "state": {
       "_dom_classes": [],
       "_model_module": "@jupyter-widgets/controls",
       "_model_module_version": "1.5.0",
       "_model_name": "HBoxModel",
       "_view_count": null,
       "_view_module": "@jupyter-widgets/controls",
       "_view_module_version": "1.5.0",
       "_view_name": "HBoxView",
       "box_style": "",
       "children": [
        "IPY_MODEL_13bbb05095f44c659c6c8ddcc9378b6d",
        "IPY_MODEL_1a72f71bb0f44181a867c9471d101b4b"
       ],
       "layout": "IPY_MODEL_1d3f6d2e1eac4e2e9e3f5c2dd6184546"
      }
     },
     "5354f46ec8c24f81a826aa4840215f6a": {
      "model_module": "@jupyter-widgets/base",
      "model_module_version": "1.2.0",
      "model_name": "LayoutModel",
      "state": {
       "_model_module": "@jupyter-widgets/base",
       "_model_module_version": "1.2.0",
       "_model_name": "LayoutModel",
       "_view_count": null,
       "_view_module": "@jupyter-widgets/base",
       "_view_module_version": "1.2.0",
       "_view_name": "LayoutView",
       "align_content": null,
       "align_items": null,
       "align_self": null,
       "border": null,
       "bottom": null,
       "display": null,
       "flex": null,
       "flex_flow": null,
       "grid_area": null,
       "grid_auto_columns": null,
       "grid_auto_flow": null,
       "grid_auto_rows": null,
       "grid_column": null,
       "grid_gap": null,
       "grid_row": null,
       "grid_template_areas": null,
       "grid_template_columns": null,
       "grid_template_rows": null,
       "height": null,
       "justify_content": null,
       "justify_items": null,
       "left": null,
       "margin": null,
       "max_height": null,
       "max_width": null,
       "min_height": null,
       "min_width": null,
       "object_fit": null,
       "object_position": null,
       "order": null,
       "overflow": null,
       "overflow_x": null,
       "overflow_y": null,
       "padding": null,
       "right": null,
       "top": null,
       "visibility": null,
       "width": null
      }
     },
     "539c153d11a841f980d8cccc757ad4a3": {
      "model_module": "@jupyter-widgets/controls",
      "model_module_version": "1.5.0",
      "model_name": "DescriptionStyleModel",
      "state": {
       "_model_module": "@jupyter-widgets/controls",
       "_model_module_version": "1.5.0",
       "_model_name": "DescriptionStyleModel",
       "_view_count": null,
       "_view_module": "@jupyter-widgets/base",
       "_view_module_version": "1.2.0",
       "_view_name": "StyleView",
       "description_width": ""
      }
     },
     "54153c2b4cf04202a2c4afd227823f33": {
      "model_module": "@jupyter-widgets/base",
      "model_module_version": "1.2.0",
      "model_name": "LayoutModel",
      "state": {
       "_model_module": "@jupyter-widgets/base",
       "_model_module_version": "1.2.0",
       "_model_name": "LayoutModel",
       "_view_count": null,
       "_view_module": "@jupyter-widgets/base",
       "_view_module_version": "1.2.0",
       "_view_name": "LayoutView",
       "align_content": null,
       "align_items": null,
       "align_self": null,
       "border": null,
       "bottom": null,
       "display": null,
       "flex": null,
       "flex_flow": null,
       "grid_area": null,
       "grid_auto_columns": null,
       "grid_auto_flow": null,
       "grid_auto_rows": null,
       "grid_column": null,
       "grid_gap": null,
       "grid_row": null,
       "grid_template_areas": null,
       "grid_template_columns": null,
       "grid_template_rows": null,
       "height": null,
       "justify_content": null,
       "justify_items": null,
       "left": null,
       "margin": null,
       "max_height": null,
       "max_width": null,
       "min_height": null,
       "min_width": null,
       "object_fit": null,
       "object_position": null,
       "order": null,
       "overflow": null,
       "overflow_x": null,
       "overflow_y": null,
       "padding": null,
       "right": null,
       "top": null,
       "visibility": null,
       "width": null
      }
     },
     "55a8ae51090847edbf2a84c936f272c1": {
      "model_module": "@jupyter-widgets/controls",
      "model_module_version": "1.5.0",
      "model_name": "HBoxModel",
      "state": {
       "_dom_classes": [],
       "_model_module": "@jupyter-widgets/controls",
       "_model_module_version": "1.5.0",
       "_model_name": "HBoxModel",
       "_view_count": null,
       "_view_module": "@jupyter-widgets/controls",
       "_view_module_version": "1.5.0",
       "_view_name": "HBoxView",
       "box_style": "",
       "children": [
        "IPY_MODEL_05b3f698368c454eaf7838b4ff064f3c",
        "IPY_MODEL_b874fc7ac0554edaa9e8f523ea1893c0"
       ],
       "layout": "IPY_MODEL_54153c2b4cf04202a2c4afd227823f33"
      }
     },
     "5e177a1b345e496484c547f36cb6f3e0": {
      "model_module": "@jupyter-widgets/controls",
      "model_module_version": "1.5.0",
      "model_name": "DescriptionStyleModel",
      "state": {
       "_model_module": "@jupyter-widgets/controls",
       "_model_module_version": "1.5.0",
       "_model_name": "DescriptionStyleModel",
       "_view_count": null,
       "_view_module": "@jupyter-widgets/base",
       "_view_module_version": "1.2.0",
       "_view_name": "StyleView",
       "description_width": ""
      }
     },
     "5e86d6e4ba874a5d91141cb7b3f61f5f": {
      "model_module": "@jupyter-widgets/base",
      "model_module_version": "1.2.0",
      "model_name": "LayoutModel",
      "state": {
       "_model_module": "@jupyter-widgets/base",
       "_model_module_version": "1.2.0",
       "_model_name": "LayoutModel",
       "_view_count": null,
       "_view_module": "@jupyter-widgets/base",
       "_view_module_version": "1.2.0",
       "_view_name": "LayoutView",
       "align_content": null,
       "align_items": null,
       "align_self": null,
       "border": null,
       "bottom": null,
       "display": null,
       "flex": null,
       "flex_flow": null,
       "grid_area": null,
       "grid_auto_columns": null,
       "grid_auto_flow": null,
       "grid_auto_rows": null,
       "grid_column": null,
       "grid_gap": null,
       "grid_row": null,
       "grid_template_areas": null,
       "grid_template_columns": null,
       "grid_template_rows": null,
       "height": null,
       "justify_content": null,
       "justify_items": null,
       "left": null,
       "margin": null,
       "max_height": null,
       "max_width": null,
       "min_height": null,
       "min_width": null,
       "object_fit": null,
       "object_position": null,
       "order": null,
       "overflow": null,
       "overflow_x": null,
       "overflow_y": null,
       "padding": null,
       "right": null,
       "top": null,
       "visibility": null,
       "width": null
      }
     },
     "626f50a0fc5f469c89891b732c164c4e": {
      "model_module": "@jupyter-widgets/base",
      "model_module_version": "1.2.0",
      "model_name": "LayoutModel",
      "state": {
       "_model_module": "@jupyter-widgets/base",
       "_model_module_version": "1.2.0",
       "_model_name": "LayoutModel",
       "_view_count": null,
       "_view_module": "@jupyter-widgets/base",
       "_view_module_version": "1.2.0",
       "_view_name": "LayoutView",
       "align_content": null,
       "align_items": null,
       "align_self": null,
       "border": null,
       "bottom": null,
       "display": null,
       "flex": null,
       "flex_flow": null,
       "grid_area": null,
       "grid_auto_columns": null,
       "grid_auto_flow": null,
       "grid_auto_rows": null,
       "grid_column": null,
       "grid_gap": null,
       "grid_row": null,
       "grid_template_areas": null,
       "grid_template_columns": null,
       "grid_template_rows": null,
       "height": null,
       "justify_content": null,
       "justify_items": null,
       "left": null,
       "margin": null,
       "max_height": null,
       "max_width": null,
       "min_height": null,
       "min_width": null,
       "object_fit": null,
       "object_position": null,
       "order": null,
       "overflow": null,
       "overflow_x": null,
       "overflow_y": null,
       "padding": null,
       "right": null,
       "top": null,
       "visibility": null,
       "width": null
      }
     },
     "6288b162e139451886099c16216ff4d1": {
      "model_module": "@jupyter-widgets/controls",
      "model_module_version": "1.5.0",
      "model_name": "HTMLModel",
      "state": {
       "_dom_classes": [],
       "_model_module": "@jupyter-widgets/controls",
       "_model_module_version": "1.5.0",
       "_model_name": "HTMLModel",
       "_view_count": null,
       "_view_module": "@jupyter-widgets/controls",
       "_view_module_version": "1.5.0",
       "_view_name": "HTMLView",
       "description": "",
       "description_tooltip": null,
       "layout": "IPY_MODEL_bc7f0c0b48f7469293a636dd15daf83d",
       "placeholder": "​",
       "style": "IPY_MODEL_29ebe7e8f5904de7bbe6f6d44405809a",
       "value": " 1973/1973 [00:13&lt;00:00, 144.70it/s]"
      }
     },
     "64ddc903867e4e64b0699d737b4e0230": {
      "model_module": "@jupyter-widgets/controls",
      "model_module_version": "1.5.0",
      "model_name": "HTMLModel",
      "state": {
       "_dom_classes": [],
       "_model_module": "@jupyter-widgets/controls",
       "_model_module_version": "1.5.0",
       "_model_name": "HTMLModel",
       "_view_count": null,
       "_view_module": "@jupyter-widgets/controls",
       "_view_module_version": "1.5.0",
       "_view_name": "HTMLView",
       "description": "",
       "description_tooltip": null,
       "layout": "IPY_MODEL_e73de65637824519b82efb85ad90e82c",
       "placeholder": "​",
       "style": "IPY_MODEL_5e177a1b345e496484c547f36cb6f3e0",
       "value": " 1973/1973 [00:19&lt;00:00, 103.40it/s]"
      }
     },
     "6cbafd61907d477b86604ed881f3b997": {
      "model_module": "@jupyter-widgets/base",
      "model_module_version": "1.2.0",
      "model_name": "LayoutModel",
      "state": {
       "_model_module": "@jupyter-widgets/base",
       "_model_module_version": "1.2.0",
       "_model_name": "LayoutModel",
       "_view_count": null,
       "_view_module": "@jupyter-widgets/base",
       "_view_module_version": "1.2.0",
       "_view_name": "LayoutView",
       "align_content": null,
       "align_items": null,
       "align_self": null,
       "border": null,
       "bottom": null,
       "display": null,
       "flex": null,
       "flex_flow": null,
       "grid_area": null,
       "grid_auto_columns": null,
       "grid_auto_flow": null,
       "grid_auto_rows": null,
       "grid_column": null,
       "grid_gap": null,
       "grid_row": null,
       "grid_template_areas": null,
       "grid_template_columns": null,
       "grid_template_rows": null,
       "height": null,
       "justify_content": null,
       "justify_items": null,
       "left": null,
       "margin": null,
       "max_height": null,
       "max_width": null,
       "min_height": null,
       "min_width": null,
       "object_fit": null,
       "object_position": null,
       "order": null,
       "overflow": null,
       "overflow_x": null,
       "overflow_y": null,
       "padding": null,
       "right": null,
       "top": null,
       "visibility": null,
       "width": null
      }
     },
     "6e4f8d4a17814ccc9a51e5f0f569b11f": {
      "model_module": "@jupyter-widgets/controls",
      "model_module_version": "1.5.0",
      "model_name": "HTMLModel",
      "state": {
       "_dom_classes": [],
       "_model_module": "@jupyter-widgets/controls",
       "_model_module_version": "1.5.0",
       "_model_name": "HTMLModel",
       "_view_count": null,
       "_view_module": "@jupyter-widgets/controls",
       "_view_module_version": "1.5.0",
       "_view_name": "HTMLView",
       "description": "",
       "description_tooltip": null,
       "layout": "IPY_MODEL_ae5f9d741e4043cbabbb6d6aef701b8f",
       "placeholder": "​",
       "style": "IPY_MODEL_2d5e93ddd7ff4e928fdf96ae255f09a3",
       "value": " 803/803 [00:06&lt;00:00, 121.03it/s]"
      }
     },
     "713bf4e7eadf4110a2587710d4bb1018": {
      "model_module": "@jupyter-widgets/controls",
      "model_module_version": "1.5.0",
      "model_name": "HTMLModel",
      "state": {
       "_dom_classes": [],
       "_model_module": "@jupyter-widgets/controls",
       "_model_module_version": "1.5.0",
       "_model_name": "HTMLModel",
       "_view_count": null,
       "_view_module": "@jupyter-widgets/controls",
       "_view_module_version": "1.5.0",
       "_view_name": "HTMLView",
       "description": "",
       "description_tooltip": null,
       "layout": "IPY_MODEL_1dabafe1329f4d35b8c22b23cd45387c",
       "placeholder": "​",
       "style": "IPY_MODEL_9dc1a8e8a19748c598b46f9ce2c08dc3",
       "value": " 9000/9000 [03:00&lt;00:00, 49.87it/s]"
      }
     },
     "741951c8826548ac85fa47a23e8c5cd0": {
      "model_module": "@jupyter-widgets/base",
      "model_module_version": "1.2.0",
      "model_name": "LayoutModel",
      "state": {
       "_model_module": "@jupyter-widgets/base",
       "_model_module_version": "1.2.0",
       "_model_name": "LayoutModel",
       "_view_count": null,
       "_view_module": "@jupyter-widgets/base",
       "_view_module_version": "1.2.0",
       "_view_name": "LayoutView",
       "align_content": null,
       "align_items": null,
       "align_self": null,
       "border": null,
       "bottom": null,
       "display": null,
       "flex": null,
       "flex_flow": null,
       "grid_area": null,
       "grid_auto_columns": null,
       "grid_auto_flow": null,
       "grid_auto_rows": null,
       "grid_column": null,
       "grid_gap": null,
       "grid_row": null,
       "grid_template_areas": null,
       "grid_template_columns": null,
       "grid_template_rows": null,
       "height": null,
       "justify_content": null,
       "justify_items": null,
       "left": null,
       "margin": null,
       "max_height": null,
       "max_width": null,
       "min_height": null,
       "min_width": null,
       "object_fit": null,
       "object_position": null,
       "order": null,
       "overflow": null,
       "overflow_x": null,
       "overflow_y": null,
       "padding": null,
       "right": null,
       "top": null,
       "visibility": null,
       "width": null
      }
     },
     "9dc1a8e8a19748c598b46f9ce2c08dc3": {
      "model_module": "@jupyter-widgets/controls",
      "model_module_version": "1.5.0",
      "model_name": "DescriptionStyleModel",
      "state": {
       "_model_module": "@jupyter-widgets/controls",
       "_model_module_version": "1.5.0",
       "_model_name": "DescriptionStyleModel",
       "_view_count": null,
       "_view_module": "@jupyter-widgets/base",
       "_view_module_version": "1.2.0",
       "_view_name": "StyleView",
       "description_width": ""
      }
     },
     "9dcf8bb8dc594016afa1d38bc5cc8aa7": {
      "model_module": "@jupyter-widgets/base",
      "model_module_version": "1.2.0",
      "model_name": "LayoutModel",
      "state": {
       "_model_module": "@jupyter-widgets/base",
       "_model_module_version": "1.2.0",
       "_model_name": "LayoutModel",
       "_view_count": null,
       "_view_module": "@jupyter-widgets/base",
       "_view_module_version": "1.2.0",
       "_view_name": "LayoutView",
       "align_content": null,
       "align_items": null,
       "align_self": null,
       "border": null,
       "bottom": null,
       "display": null,
       "flex": null,
       "flex_flow": null,
       "grid_area": null,
       "grid_auto_columns": null,
       "grid_auto_flow": null,
       "grid_auto_rows": null,
       "grid_column": null,
       "grid_gap": null,
       "grid_row": null,
       "grid_template_areas": null,
       "grid_template_columns": null,
       "grid_template_rows": null,
       "height": null,
       "justify_content": null,
       "justify_items": null,
       "left": null,
       "margin": null,
       "max_height": null,
       "max_width": null,
       "min_height": null,
       "min_width": null,
       "object_fit": null,
       "object_position": null,
       "order": null,
       "overflow": null,
       "overflow_x": null,
       "overflow_y": null,
       "padding": null,
       "right": null,
       "top": null,
       "visibility": null,
       "width": null
      }
     },
     "a630f517918643f1a7e565f513dd895f": {
      "model_module": "@jupyter-widgets/controls",
      "model_module_version": "1.5.0",
      "model_name": "ProgressStyleModel",
      "state": {
       "_model_module": "@jupyter-widgets/controls",
       "_model_module_version": "1.5.0",
       "_model_name": "ProgressStyleModel",
       "_view_count": null,
       "_view_module": "@jupyter-widgets/base",
       "_view_module_version": "1.2.0",
       "_view_name": "StyleView",
       "bar_color": null,
       "description_width": "initial"
      }
     },
     "a722aafed3f34a25a85f9ef396373aca": {
      "model_module": "@jupyter-widgets/controls",
      "model_module_version": "1.5.0",
      "model_name": "ProgressStyleModel",
      "state": {
       "_model_module": "@jupyter-widgets/controls",
       "_model_module_version": "1.5.0",
       "_model_name": "ProgressStyleModel",
       "_view_count": null,
       "_view_module": "@jupyter-widgets/base",
       "_view_module_version": "1.2.0",
       "_view_name": "StyleView",
       "bar_color": null,
       "description_width": "initial"
      }
     },
     "ad03e77791be4366b383f35570ed5fa9": {
      "model_module": "@jupyter-widgets/base",
      "model_module_version": "1.2.0",
      "model_name": "LayoutModel",
      "state": {
       "_model_module": "@jupyter-widgets/base",
       "_model_module_version": "1.2.0",
       "_model_name": "LayoutModel",
       "_view_count": null,
       "_view_module": "@jupyter-widgets/base",
       "_view_module_version": "1.2.0",
       "_view_name": "LayoutView",
       "align_content": null,
       "align_items": null,
       "align_self": null,
       "border": null,
       "bottom": null,
       "display": null,
       "flex": null,
       "flex_flow": null,
       "grid_area": null,
       "grid_auto_columns": null,
       "grid_auto_flow": null,
       "grid_auto_rows": null,
       "grid_column": null,
       "grid_gap": null,
       "grid_row": null,
       "grid_template_areas": null,
       "grid_template_columns": null,
       "grid_template_rows": null,
       "height": null,
       "justify_content": null,
       "justify_items": null,
       "left": null,
       "margin": null,
       "max_height": null,
       "max_width": null,
       "min_height": null,
       "min_width": null,
       "object_fit": null,
       "object_position": null,
       "order": null,
       "overflow": null,
       "overflow_x": null,
       "overflow_y": null,
       "padding": null,
       "right": null,
       "top": null,
       "visibility": null,
       "width": null
      }
     },
     "ae4c502715ac4a4aa59045b553228fbb": {
      "model_module": "@jupyter-widgets/base",
      "model_module_version": "1.2.0",
      "model_name": "LayoutModel",
      "state": {
       "_model_module": "@jupyter-widgets/base",
       "_model_module_version": "1.2.0",
       "_model_name": "LayoutModel",
       "_view_count": null,
       "_view_module": "@jupyter-widgets/base",
       "_view_module_version": "1.2.0",
       "_view_name": "LayoutView",
       "align_content": null,
       "align_items": null,
       "align_self": null,
       "border": null,
       "bottom": null,
       "display": null,
       "flex": null,
       "flex_flow": null,
       "grid_area": null,
       "grid_auto_columns": null,
       "grid_auto_flow": null,
       "grid_auto_rows": null,
       "grid_column": null,
       "grid_gap": null,
       "grid_row": null,
       "grid_template_areas": null,
       "grid_template_columns": null,
       "grid_template_rows": null,
       "height": null,
       "justify_content": null,
       "justify_items": null,
       "left": null,
       "margin": null,
       "max_height": null,
       "max_width": null,
       "min_height": null,
       "min_width": null,
       "object_fit": null,
       "object_position": null,
       "order": null,
       "overflow": null,
       "overflow_x": null,
       "overflow_y": null,
       "padding": null,
       "right": null,
       "top": null,
       "visibility": null,
       "width": null
      }
     },
     "ae5f9d741e4043cbabbb6d6aef701b8f": {
      "model_module": "@jupyter-widgets/base",
      "model_module_version": "1.2.0",
      "model_name": "LayoutModel",
      "state": {
       "_model_module": "@jupyter-widgets/base",
       "_model_module_version": "1.2.0",
       "_model_name": "LayoutModel",
       "_view_count": null,
       "_view_module": "@jupyter-widgets/base",
       "_view_module_version": "1.2.0",
       "_view_name": "LayoutView",
       "align_content": null,
       "align_items": null,
       "align_self": null,
       "border": null,
       "bottom": null,
       "display": null,
       "flex": null,
       "flex_flow": null,
       "grid_area": null,
       "grid_auto_columns": null,
       "grid_auto_flow": null,
       "grid_auto_rows": null,
       "grid_column": null,
       "grid_gap": null,
       "grid_row": null,
       "grid_template_areas": null,
       "grid_template_columns": null,
       "grid_template_rows": null,
       "height": null,
       "justify_content": null,
       "justify_items": null,
       "left": null,
       "margin": null,
       "max_height": null,
       "max_width": null,
       "min_height": null,
       "min_width": null,
       "object_fit": null,
       "object_position": null,
       "order": null,
       "overflow": null,
       "overflow_x": null,
       "overflow_y": null,
       "padding": null,
       "right": null,
       "top": null,
       "visibility": null,
       "width": null
      }
     },
     "b874fc7ac0554edaa9e8f523ea1893c0": {
      "model_module": "@jupyter-widgets/controls",
      "model_module_version": "1.5.0",
      "model_name": "HTMLModel",
      "state": {
       "_dom_classes": [],
       "_model_module": "@jupyter-widgets/controls",
       "_model_module_version": "1.5.0",
       "_model_name": "HTMLModel",
       "_view_count": null,
       "_view_module": "@jupyter-widgets/controls",
       "_view_module_version": "1.5.0",
       "_view_name": "HTMLView",
       "description": "",
       "description_tooltip": null,
       "layout": "IPY_MODEL_6cbafd61907d477b86604ed881f3b997",
       "placeholder": "​",
       "style": "IPY_MODEL_539c153d11a841f980d8cccc757ad4a3",
       "value": " 1426/1426 [00:11&lt;00:00, 124.02it/s]"
      }
     },
     "b8b6c7c629a74e9986236017ab924a11": {
      "model_module": "@jupyter-widgets/controls",
      "model_module_version": "1.5.0",
      "model_name": "FloatProgressModel",
      "state": {
       "_dom_classes": [],
       "_model_module": "@jupyter-widgets/controls",
       "_model_module_version": "1.5.0",
       "_model_name": "FloatProgressModel",
       "_view_count": null,
       "_view_module": "@jupyter-widgets/controls",
       "_view_module_version": "1.5.0",
       "_view_name": "ProgressView",
       "bar_style": "success",
       "description": "100%",
       "description_tooltip": null,
       "layout": "IPY_MODEL_cc51690c36a04f2c8e4a4122844b68c6",
       "max": 1973.0,
       "min": 0.0,
       "orientation": "horizontal",
       "style": "IPY_MODEL_075833ffb28e4d54ab767912a7194a07",
       "value": 1973.0
      }
     },
     "b9c0f975d25845d38603c8ede9105799": {
      "model_module": "@jupyter-widgets/base",
      "model_module_version": "1.2.0",
      "model_name": "LayoutModel",
      "state": {
       "_model_module": "@jupyter-widgets/base",
       "_model_module_version": "1.2.0",
       "_model_name": "LayoutModel",
       "_view_count": null,
       "_view_module": "@jupyter-widgets/base",
       "_view_module_version": "1.2.0",
       "_view_name": "LayoutView",
       "align_content": null,
       "align_items": null,
       "align_self": null,
       "border": null,
       "bottom": null,
       "display": null,
       "flex": null,
       "flex_flow": null,
       "grid_area": null,
       "grid_auto_columns": null,
       "grid_auto_flow": null,
       "grid_auto_rows": null,
       "grid_column": null,
       "grid_gap": null,
       "grid_row": null,
       "grid_template_areas": null,
       "grid_template_columns": null,
       "grid_template_rows": null,
       "height": null,
       "justify_content": null,
       "justify_items": null,
       "left": null,
       "margin": null,
       "max_height": null,
       "max_width": null,
       "min_height": null,
       "min_width": null,
       "object_fit": null,
       "object_position": null,
       "order": null,
       "overflow": null,
       "overflow_x": null,
       "overflow_y": null,
       "padding": null,
       "right": null,
       "top": null,
       "visibility": null,
       "width": null
      }
     },
     "bc7f0c0b48f7469293a636dd15daf83d": {
      "model_module": "@jupyter-widgets/base",
      "model_module_version": "1.2.0",
      "model_name": "LayoutModel",
      "state": {
       "_model_module": "@jupyter-widgets/base",
       "_model_module_version": "1.2.0",
       "_model_name": "LayoutModel",
       "_view_count": null,
       "_view_module": "@jupyter-widgets/base",
       "_view_module_version": "1.2.0",
       "_view_name": "LayoutView",
       "align_content": null,
       "align_items": null,
       "align_self": null,
       "border": null,
       "bottom": null,
       "display": null,
       "flex": null,
       "flex_flow": null,
       "grid_area": null,
       "grid_auto_columns": null,
       "grid_auto_flow": null,
       "grid_auto_rows": null,
       "grid_column": null,
       "grid_gap": null,
       "grid_row": null,
       "grid_template_areas": null,
       "grid_template_columns": null,
       "grid_template_rows": null,
       "height": null,
       "justify_content": null,
       "justify_items": null,
       "left": null,
       "margin": null,
       "max_height": null,
       "max_width": null,
       "min_height": null,
       "min_width": null,
       "object_fit": null,
       "object_position": null,
       "order": null,
       "overflow": null,
       "overflow_x": null,
       "overflow_y": null,
       "padding": null,
       "right": null,
       "top": null,
       "visibility": null,
       "width": null
      }
     },
     "c954a6251c6347bea9d995ecfbae7b6a": {
      "model_module": "@jupyter-widgets/controls",
      "model_module_version": "1.5.0",
      "model_name": "HBoxModel",
      "state": {
       "_dom_classes": [],
       "_model_module": "@jupyter-widgets/controls",
       "_model_module_version": "1.5.0",
       "_model_name": "HBoxModel",
       "_view_count": null,
       "_view_module": "@jupyter-widgets/controls",
       "_view_module_version": "1.5.0",
       "_view_name": "HBoxView",
       "box_style": "",
       "children": [
        "IPY_MODEL_4dac57ee7e82408488b3f9c2cf38ff0c",
        "IPY_MODEL_6288b162e139451886099c16216ff4d1"
       ],
       "layout": "IPY_MODEL_741951c8826548ac85fa47a23e8c5cd0"
      }
     },
     "cc51690c36a04f2c8e4a4122844b68c6": {
      "model_module": "@jupyter-widgets/base",
      "model_module_version": "1.2.0",
      "model_name": "LayoutModel",
      "state": {
       "_model_module": "@jupyter-widgets/base",
       "_model_module_version": "1.2.0",
       "_model_name": "LayoutModel",
       "_view_count": null,
       "_view_module": "@jupyter-widgets/base",
       "_view_module_version": "1.2.0",
       "_view_name": "LayoutView",
       "align_content": null,
       "align_items": null,
       "align_self": null,
       "border": null,
       "bottom": null,
       "display": null,
       "flex": null,
       "flex_flow": null,
       "grid_area": null,
       "grid_auto_columns": null,
       "grid_auto_flow": null,
       "grid_auto_rows": null,
       "grid_column": null,
       "grid_gap": null,
       "grid_row": null,
       "grid_template_areas": null,
       "grid_template_columns": null,
       "grid_template_rows": null,
       "height": null,
       "justify_content": null,
       "justify_items": null,
       "left": null,
       "margin": null,
       "max_height": null,
       "max_width": null,
       "min_height": null,
       "min_width": null,
       "object_fit": null,
       "object_position": null,
       "order": null,
       "overflow": null,
       "overflow_x": null,
       "overflow_y": null,
       "padding": null,
       "right": null,
       "top": null,
       "visibility": null,
       "width": null
      }
     },
     "d426137f4278440dad370ba4da8d4664": {
      "model_module": "@jupyter-widgets/controls",
      "model_module_version": "1.5.0",
      "model_name": "FloatProgressModel",
      "state": {
       "_dom_classes": [],
       "_model_module": "@jupyter-widgets/controls",
       "_model_module_version": "1.5.0",
       "_model_name": "FloatProgressModel",
       "_view_count": null,
       "_view_module": "@jupyter-widgets/controls",
       "_view_module_version": "1.5.0",
       "_view_name": "ProgressView",
       "bar_style": "success",
       "description": "100%",
       "description_tooltip": null,
       "layout": "IPY_MODEL_f04d52dc36a94d4e8786106e1c29fbb1",
       "max": 9000.0,
       "min": 0.0,
       "orientation": "horizontal",
       "style": "IPY_MODEL_a630f517918643f1a7e565f513dd895f",
       "value": 9000.0
      }
     },
     "d5a3b7d1e75141d98fecdcf86bcbd0e6": {
      "model_module": "@jupyter-widgets/base",
      "model_module_version": "1.2.0",
      "model_name": "LayoutModel",
      "state": {
       "_model_module": "@jupyter-widgets/base",
       "_model_module_version": "1.2.0",
       "_model_name": "LayoutModel",
       "_view_count": null,
       "_view_module": "@jupyter-widgets/base",
       "_view_module_version": "1.2.0",
       "_view_name": "LayoutView",
       "align_content": null,
       "align_items": null,
       "align_self": null,
       "border": null,
       "bottom": null,
       "display": null,
       "flex": null,
       "flex_flow": null,
       "grid_area": null,
       "grid_auto_columns": null,
       "grid_auto_flow": null,
       "grid_auto_rows": null,
       "grid_column": null,
       "grid_gap": null,
       "grid_row": null,
       "grid_template_areas": null,
       "grid_template_columns": null,
       "grid_template_rows": null,
       "height": null,
       "justify_content": null,
       "justify_items": null,
       "left": null,
       "margin": null,
       "max_height": null,
       "max_width": null,
       "min_height": null,
       "min_width": null,
       "object_fit": null,
       "object_position": null,
       "order": null,
       "overflow": null,
       "overflow_x": null,
       "overflow_y": null,
       "padding": null,
       "right": null,
       "top": null,
       "visibility": null,
       "width": null
      }
     },
     "d6b5b72da4cb41c88ff13fd1d8202816": {
      "model_module": "@jupyter-widgets/base",
      "model_module_version": "1.2.0",
      "model_name": "LayoutModel",
      "state": {
       "_model_module": "@jupyter-widgets/base",
       "_model_module_version": "1.2.0",
       "_model_name": "LayoutModel",
       "_view_count": null,
       "_view_module": "@jupyter-widgets/base",
       "_view_module_version": "1.2.0",
       "_view_name": "LayoutView",
       "align_content": null,
       "align_items": null,
       "align_self": null,
       "border": null,
       "bottom": null,
       "display": null,
       "flex": null,
       "flex_flow": null,
       "grid_area": null,
       "grid_auto_columns": null,
       "grid_auto_flow": null,
       "grid_auto_rows": null,
       "grid_column": null,
       "grid_gap": null,
       "grid_row": null,
       "grid_template_areas": null,
       "grid_template_columns": null,
       "grid_template_rows": null,
       "height": null,
       "justify_content": null,
       "justify_items": null,
       "left": null,
       "margin": null,
       "max_height": null,
       "max_width": null,
       "min_height": null,
       "min_width": null,
       "object_fit": null,
       "object_position": null,
       "order": null,
       "overflow": null,
       "overflow_x": null,
       "overflow_y": null,
       "padding": null,
       "right": null,
       "top": null,
       "visibility": null,
       "width": null
      }
     },
     "d70e630be3ed481f9269e350871cd04a": {
      "model_module": "@jupyter-widgets/controls",
      "model_module_version": "1.5.0",
      "model_name": "DescriptionStyleModel",
      "state": {
       "_model_module": "@jupyter-widgets/controls",
       "_model_module_version": "1.5.0",
       "_model_name": "DescriptionStyleModel",
       "_view_count": null,
       "_view_module": "@jupyter-widgets/base",
       "_view_module_version": "1.2.0",
       "_view_name": "StyleView",
       "description_width": ""
      }
     },
     "d78abe3e5f1f4ee1a2c454bd0e053eaa": {
      "model_module": "@jupyter-widgets/controls",
      "model_module_version": "1.5.0",
      "model_name": "HBoxModel",
      "state": {
       "_dom_classes": [],
       "_model_module": "@jupyter-widgets/controls",
       "_model_module_version": "1.5.0",
       "_model_name": "HBoxModel",
       "_view_count": null,
       "_view_module": "@jupyter-widgets/controls",
       "_view_module_version": "1.5.0",
       "_view_name": "HBoxView",
       "box_style": "",
       "children": [
        "IPY_MODEL_d426137f4278440dad370ba4da8d4664",
        "IPY_MODEL_f0b75168002a4dbfa6132aa24781132c"
       ],
       "layout": "IPY_MODEL_ad03e77791be4366b383f35570ed5fa9"
      }
     },
     "e73de65637824519b82efb85ad90e82c": {
      "model_module": "@jupyter-widgets/base",
      "model_module_version": "1.2.0",
      "model_name": "LayoutModel",
      "state": {
       "_model_module": "@jupyter-widgets/base",
       "_model_module_version": "1.2.0",
       "_model_name": "LayoutModel",
       "_view_count": null,
       "_view_module": "@jupyter-widgets/base",
       "_view_module_version": "1.2.0",
       "_view_name": "LayoutView",
       "align_content": null,
       "align_items": null,
       "align_self": null,
       "border": null,
       "bottom": null,
       "display": null,
       "flex": null,
       "flex_flow": null,
       "grid_area": null,
       "grid_auto_columns": null,
       "grid_auto_flow": null,
       "grid_auto_rows": null,
       "grid_column": null,
       "grid_gap": null,
       "grid_row": null,
       "grid_template_areas": null,
       "grid_template_columns": null,
       "grid_template_rows": null,
       "height": null,
       "justify_content": null,
       "justify_items": null,
       "left": null,
       "margin": null,
       "max_height": null,
       "max_width": null,
       "min_height": null,
       "min_width": null,
       "object_fit": null,
       "object_position": null,
       "order": null,
       "overflow": null,
       "overflow_x": null,
       "overflow_y": null,
       "padding": null,
       "right": null,
       "top": null,
       "visibility": null,
       "width": null
      }
     },
     "e77d75930e154cfa818a73c8d74c66b8": {
      "model_module": "@jupyter-widgets/controls",
      "model_module_version": "1.5.0",
      "model_name": "FloatProgressModel",
      "state": {
       "_dom_classes": [],
       "_model_module": "@jupyter-widgets/controls",
       "_model_module_version": "1.5.0",
       "_model_name": "FloatProgressModel",
       "_view_count": null,
       "_view_module": "@jupyter-widgets/controls",
       "_view_module_version": "1.5.0",
       "_view_name": "ProgressView",
       "bar_style": "success",
       "description": "100%",
       "description_tooltip": null,
       "layout": "IPY_MODEL_626f50a0fc5f469c89891b732c164c4e",
       "max": 803.0,
       "min": 0.0,
       "orientation": "horizontal",
       "style": "IPY_MODEL_efa0793ae2b44b7e91dc1a9ccb28c0ee",
       "value": 803.0
      }
     },
     "ec8477f786974c2195985e139f6dbc0a": {
      "model_module": "@jupyter-widgets/controls",
      "model_module_version": "1.5.0",
      "model_name": "DescriptionStyleModel",
      "state": {
       "_model_module": "@jupyter-widgets/controls",
       "_model_module_version": "1.5.0",
       "_model_name": "DescriptionStyleModel",
       "_view_count": null,
       "_view_module": "@jupyter-widgets/base",
       "_view_module_version": "1.2.0",
       "_view_name": "StyleView",
       "description_width": ""
      }
     },
     "ee18ec10266d442cbe379a82e0f05fd7": {
      "model_module": "@jupyter-widgets/controls",
      "model_module_version": "1.5.0",
      "model_name": "ProgressStyleModel",
      "state": {
       "_model_module": "@jupyter-widgets/controls",
       "_model_module_version": "1.5.0",
       "_model_name": "ProgressStyleModel",
       "_view_count": null,
       "_view_module": "@jupyter-widgets/base",
       "_view_module_version": "1.2.0",
       "_view_name": "StyleView",
       "bar_color": null,
       "description_width": "initial"
      }
     },
     "efa0793ae2b44b7e91dc1a9ccb28c0ee": {
      "model_module": "@jupyter-widgets/controls",
      "model_module_version": "1.5.0",
      "model_name": "ProgressStyleModel",
      "state": {
       "_model_module": "@jupyter-widgets/controls",
       "_model_module_version": "1.5.0",
       "_model_name": "ProgressStyleModel",
       "_view_count": null,
       "_view_module": "@jupyter-widgets/base",
       "_view_module_version": "1.2.0",
       "_view_name": "StyleView",
       "bar_color": null,
       "description_width": "initial"
      }
     },
     "f04d52dc36a94d4e8786106e1c29fbb1": {
      "model_module": "@jupyter-widgets/base",
      "model_module_version": "1.2.0",
      "model_name": "LayoutModel",
      "state": {
       "_model_module": "@jupyter-widgets/base",
       "_model_module_version": "1.2.0",
       "_model_name": "LayoutModel",
       "_view_count": null,
       "_view_module": "@jupyter-widgets/base",
       "_view_module_version": "1.2.0",
       "_view_name": "LayoutView",
       "align_content": null,
       "align_items": null,
       "align_self": null,
       "border": null,
       "bottom": null,
       "display": null,
       "flex": null,
       "flex_flow": null,
       "grid_area": null,
       "grid_auto_columns": null,
       "grid_auto_flow": null,
       "grid_auto_rows": null,
       "grid_column": null,
       "grid_gap": null,
       "grid_row": null,
       "grid_template_areas": null,
       "grid_template_columns": null,
       "grid_template_rows": null,
       "height": null,
       "justify_content": null,
       "justify_items": null,
       "left": null,
       "margin": null,
       "max_height": null,
       "max_width": null,
       "min_height": null,
       "min_width": null,
       "object_fit": null,
       "object_position": null,
       "order": null,
       "overflow": null,
       "overflow_x": null,
       "overflow_y": null,
       "padding": null,
       "right": null,
       "top": null,
       "visibility": null,
       "width": null
      }
     },
     "f0b75168002a4dbfa6132aa24781132c": {
      "model_module": "@jupyter-widgets/controls",
      "model_module_version": "1.5.0",
      "model_name": "HTMLModel",
      "state": {
       "_dom_classes": [],
       "_model_module": "@jupyter-widgets/controls",
       "_model_module_version": "1.5.0",
       "_model_name": "HTMLModel",
       "_view_count": null,
       "_view_module": "@jupyter-widgets/controls",
       "_view_module_version": "1.5.0",
       "_view_name": "HTMLView",
       "description": "",
       "description_tooltip": null,
       "layout": "IPY_MODEL_b9c0f975d25845d38603c8ede9105799",
       "placeholder": "​",
       "style": "IPY_MODEL_d70e630be3ed481f9269e350871cd04a",
       "value": " 9000/9000 [02:03&lt;00:00, 72.76it/s]"
      }
     }
    },
    "version_major": 2,
    "version_minor": 0
   }
  }
 },
 "nbformat": 4,
 "nbformat_minor": 4
}
